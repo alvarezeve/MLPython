{
 "cells": [
  {
   "cell_type": "markdown",
   "metadata": {
    "id": "Eg62Pmz3o83v"
   },
   "source": [
    "# Instructions \n",
    "\n",
    "In this challenge, you need to create a machine learning model that will classify SMS messages as either \"ham\" or \"spam\". A \"ham\" message is a normal message sent by a friend. A \"spam\" message is an advertisement or a message sent by a company.\n",
    "\n",
    "You should create a function called `predict_message` that takes a message string as an argument and returns a list. The first element in the list should be a number between zero and one that indicates the likeliness of \"ham\" (0) or \"spam\" (1). The second element in the list should be the word \"ham\" or \"spam\", depending on which is most likely.\n",
    "\n",
    "For this challenge, you will use the [SMS Spam Collection dataset](http://www.dt.fee.unicamp.br/~tiago/smsspamcollection/). The dataset has already been grouped into train data and test data.\n",
    "\n",
    "The first two cells import the libraries and data. The final cell tests your model and function. Add your code in between these cells.\n"
   ]
  },
  {
   "cell_type": "code",
   "execution_count": 22,
   "metadata": {
    "id": "8RZOuS9LWQvv"
   },
   "outputs": [
    {
     "name": "stdout",
     "output_type": "stream",
     "text": [
      "Requirement already satisfied: tf-nightly in /home/evelynalvarez/.julia/conda/3/lib/python3.8/site-packages (2.6.0.dev20210510)\n",
      "Requirement already satisfied: numpy~=1.19.2 in /home/evelynalvarez/.julia/conda/3/lib/python3.8/site-packages (from tf-nightly) (1.19.5)\n",
      "Requirement already satisfied: protobuf>=3.9.2 in /home/evelynalvarez/.julia/conda/3/lib/python3.8/site-packages (from tf-nightly) (3.15.6)\n",
      "Requirement already satisfied: grpcio<2.0,>=1.37.0 in /home/evelynalvarez/.julia/conda/3/lib/python3.8/site-packages (from tf-nightly) (1.37.1)\n",
      "Requirement already satisfied: tb-nightly~=2.6.0.a in /home/evelynalvarez/.julia/conda/3/lib/python3.8/site-packages (from tf-nightly) (2.6.0a20210510)\n",
      "Requirement already satisfied: absl-py~=0.10 in /home/evelynalvarez/.julia/conda/3/lib/python3.8/site-packages (from tf-nightly) (0.12.0)\n",
      "Requirement already satisfied: keras-preprocessing~=1.1.2 in /home/evelynalvarez/.julia/conda/3/lib/python3.8/site-packages (from tf-nightly) (1.1.2)\n",
      "Requirement already satisfied: wheel~=0.35 in /home/evelynalvarez/.julia/conda/3/lib/python3.8/site-packages (from tf-nightly) (0.35.1)\n",
      "Requirement already satisfied: opt-einsum~=3.3.0 in /home/evelynalvarez/.julia/conda/3/lib/python3.8/site-packages (from tf-nightly) (3.3.0)\n",
      "Requirement already satisfied: keras-nightly~=2.6.0.dev in /home/evelynalvarez/.julia/conda/3/lib/python3.8/site-packages (from tf-nightly) (2.6.0.dev2021050600)\n",
      "Requirement already satisfied: wrapt~=1.12.1 in /home/evelynalvarez/.julia/conda/3/lib/python3.8/site-packages (from tf-nightly) (1.12.1)\n",
      "Requirement already satisfied: flatbuffers~=1.12.0 in /home/evelynalvarez/.julia/conda/3/lib/python3.8/site-packages (from tf-nightly) (1.12)\n",
      "Requirement already satisfied: tf-estimator-nightly~=2.5.0.dev in /home/evelynalvarez/.julia/conda/3/lib/python3.8/site-packages (from tf-nightly) (2.5.0.dev2021032601)\n",
      "Requirement already satisfied: six~=1.15.0 in /home/evelynalvarez/.julia/conda/3/lib/python3.8/site-packages (from tf-nightly) (1.15.0)\n",
      "Requirement already satisfied: astunparse~=1.6.3 in /home/evelynalvarez/.julia/conda/3/lib/python3.8/site-packages (from tf-nightly) (1.6.3)\n",
      "Requirement already satisfied: gast==0.4.0 in /home/evelynalvarez/.julia/conda/3/lib/python3.8/site-packages (from tf-nightly) (0.4.0)\n",
      "Requirement already satisfied: google-pasta~=0.2 in /home/evelynalvarez/.julia/conda/3/lib/python3.8/site-packages (from tf-nightly) (0.2.0)\n",
      "Requirement already satisfied: h5py~=3.1.0 in /home/evelynalvarez/.julia/conda/3/lib/python3.8/site-packages (from tf-nightly) (3.1.0)\n",
      "Requirement already satisfied: typing-extensions~=3.7.4 in /home/evelynalvarez/.julia/conda/3/lib/python3.8/site-packages (from tf-nightly) (3.7.4.3)\n",
      "Requirement already satisfied: termcolor~=1.1.0 in /home/evelynalvarez/.julia/conda/3/lib/python3.8/site-packages (from tf-nightly) (1.1.0)\n",
      "Requirement already satisfied: requests<3,>=2.21.0 in /home/evelynalvarez/.julia/conda/3/lib/python3.8/site-packages (from tb-nightly~=2.6.0.a->tf-nightly) (2.24.0)\n",
      "Requirement already satisfied: tensorboard-data-server<0.7.0,>=0.6.0 in /home/evelynalvarez/.julia/conda/3/lib/python3.8/site-packages (from tb-nightly~=2.6.0.a->tf-nightly) (0.6.1)\n",
      "Requirement already satisfied: tensorboard-plugin-wit>=1.6.0 in /home/evelynalvarez/.julia/conda/3/lib/python3.8/site-packages (from tb-nightly~=2.6.0.a->tf-nightly) (1.8.0)\n",
      "Requirement already satisfied: werkzeug>=0.11.15 in /home/evelynalvarez/.julia/conda/3/lib/python3.8/site-packages (from tb-nightly~=2.6.0.a->tf-nightly) (1.0.1)\n",
      "Requirement already satisfied: google-auth-oauthlib<0.5,>=0.4.1 in /home/evelynalvarez/.julia/conda/3/lib/python3.8/site-packages (from tb-nightly~=2.6.0.a->tf-nightly) (0.4.3)\n",
      "Requirement already satisfied: markdown>=2.6.8 in /home/evelynalvarez/.julia/conda/3/lib/python3.8/site-packages (from tb-nightly~=2.6.0.a->tf-nightly) (3.3.4)\n",
      "Requirement already satisfied: google-auth<2,>=1.6.3 in /home/evelynalvarez/.julia/conda/3/lib/python3.8/site-packages (from tb-nightly~=2.6.0.a->tf-nightly) (1.28.0)\n",
      "Requirement already satisfied: setuptools>=41.0.0 in /home/evelynalvarez/.julia/conda/3/lib/python3.8/site-packages (from tb-nightly~=2.6.0.a->tf-nightly) (50.3.1.post20201107)\n",
      "Requirement already satisfied: urllib3!=1.25.0,!=1.25.1,<1.26,>=1.21.1 in /home/evelynalvarez/.julia/conda/3/lib/python3.8/site-packages (from requests<3,>=2.21.0->tb-nightly~=2.6.0.a->tf-nightly) (1.25.11)\n",
      "Requirement already satisfied: idna<3,>=2.5 in /home/evelynalvarez/.julia/conda/3/lib/python3.8/site-packages (from requests<3,>=2.21.0->tb-nightly~=2.6.0.a->tf-nightly) (2.10)\n",
      "Requirement already satisfied: chardet<4,>=3.0.2 in /home/evelynalvarez/.julia/conda/3/lib/python3.8/site-packages (from requests<3,>=2.21.0->tb-nightly~=2.6.0.a->tf-nightly) (3.0.4)\n",
      "Requirement already satisfied: certifi>=2017.4.17 in /home/evelynalvarez/.julia/conda/3/lib/python3.8/site-packages (from requests<3,>=2.21.0->tb-nightly~=2.6.0.a->tf-nightly) (2020.12.5)\n",
      "Requirement already satisfied: requests-oauthlib>=0.7.0 in /home/evelynalvarez/.julia/conda/3/lib/python3.8/site-packages (from google-auth-oauthlib<0.5,>=0.4.1->tb-nightly~=2.6.0.a->tf-nightly) (1.3.0)\n",
      "Requirement already satisfied: cachetools<5.0,>=2.0.0 in /home/evelynalvarez/.julia/conda/3/lib/python3.8/site-packages (from google-auth<2,>=1.6.3->tb-nightly~=2.6.0.a->tf-nightly) (4.2.1)\n",
      "Requirement already satisfied: pyasn1-modules>=0.2.1 in /home/evelynalvarez/.julia/conda/3/lib/python3.8/site-packages (from google-auth<2,>=1.6.3->tb-nightly~=2.6.0.a->tf-nightly) (0.2.8)\n",
      "Requirement already satisfied: rsa<5,>=3.1.4; python_version >= \"3.6\" in /home/evelynalvarez/.julia/conda/3/lib/python3.8/site-packages (from google-auth<2,>=1.6.3->tb-nightly~=2.6.0.a->tf-nightly) (4.7.2)\n",
      "Requirement already satisfied: oauthlib>=3.0.0 in /home/evelynalvarez/.julia/conda/3/lib/python3.8/site-packages (from requests-oauthlib>=0.7.0->google-auth-oauthlib<0.5,>=0.4.1->tb-nightly~=2.6.0.a->tf-nightly) (3.1.0)\n",
      "Requirement already satisfied: pyasn1<0.5.0,>=0.4.6 in /home/evelynalvarez/.julia/conda/3/lib/python3.8/site-packages (from pyasn1-modules>=0.2.1->google-auth<2,>=1.6.3->tb-nightly~=2.6.0.a->tf-nightly) (0.4.8)\n",
      "Requirement already satisfied: tensorflow-datasets in /home/evelynalvarez/.julia/conda/3/lib/python3.8/site-packages (4.3.0)\n",
      "Requirement already satisfied: tensorflow-metadata in /home/evelynalvarez/.julia/conda/3/lib/python3.8/site-packages (from tensorflow-datasets) (0.30.0)\n",
      "Requirement already satisfied: requests>=2.19.0 in /home/evelynalvarez/.julia/conda/3/lib/python3.8/site-packages (from tensorflow-datasets) (2.24.0)\n",
      "Requirement already satisfied: tqdm in /home/evelynalvarez/.julia/conda/3/lib/python3.8/site-packages (from tensorflow-datasets) (4.51.0)\n",
      "Requirement already satisfied: dill in /home/evelynalvarez/.julia/conda/3/lib/python3.8/site-packages (from tensorflow-datasets) (0.3.3)\n",
      "Requirement already satisfied: promise in /home/evelynalvarez/.julia/conda/3/lib/python3.8/site-packages (from tensorflow-datasets) (2.3)\n",
      "Requirement already satisfied: protobuf>=3.12.2 in /home/evelynalvarez/.julia/conda/3/lib/python3.8/site-packages (from tensorflow-datasets) (3.15.6)\n",
      "Requirement already satisfied: six in /home/evelynalvarez/.julia/conda/3/lib/python3.8/site-packages (from tensorflow-datasets) (1.15.0)\n",
      "Requirement already satisfied: termcolor in /home/evelynalvarez/.julia/conda/3/lib/python3.8/site-packages (from tensorflow-datasets) (1.1.0)\n",
      "Requirement already satisfied: attrs>=18.1.0 in /home/evelynalvarez/.julia/conda/3/lib/python3.8/site-packages (from tensorflow-datasets) (20.3.0)\n",
      "Requirement already satisfied: absl-py in /home/evelynalvarez/.julia/conda/3/lib/python3.8/site-packages (from tensorflow-datasets) (0.12.0)\n",
      "Requirement already satisfied: future in /home/evelynalvarez/.julia/conda/3/lib/python3.8/site-packages (from tensorflow-datasets) (0.18.2)\n",
      "Requirement already satisfied: importlib-resources; python_version < \"3.9\" in /home/evelynalvarez/.julia/conda/3/lib/python3.8/site-packages (from tensorflow-datasets) (5.1.2)\n",
      "Requirement already satisfied: numpy in /home/evelynalvarez/.julia/conda/3/lib/python3.8/site-packages (from tensorflow-datasets) (1.19.5)\n",
      "Requirement already satisfied: googleapis-common-protos<2,>=1.52.0 in /home/evelynalvarez/.julia/conda/3/lib/python3.8/site-packages (from tensorflow-metadata->tensorflow-datasets) (1.53.0)\n",
      "Requirement already satisfied: certifi>=2017.4.17 in /home/evelynalvarez/.julia/conda/3/lib/python3.8/site-packages (from requests>=2.19.0->tensorflow-datasets) (2020.12.5)\n",
      "Requirement already satisfied: chardet<4,>=3.0.2 in /home/evelynalvarez/.julia/conda/3/lib/python3.8/site-packages (from requests>=2.19.0->tensorflow-datasets) (3.0.4)\n",
      "Requirement already satisfied: urllib3!=1.25.0,!=1.25.1,<1.26,>=1.21.1 in /home/evelynalvarez/.julia/conda/3/lib/python3.8/site-packages (from requests>=2.19.0->tensorflow-datasets) (1.25.11)\n",
      "Requirement already satisfied: idna<3,>=2.5 in /home/evelynalvarez/.julia/conda/3/lib/python3.8/site-packages (from requests>=2.19.0->tensorflow-datasets) (2.10)\n"
     ]
    },
    {
     "name": "stdout",
     "output_type": "stream",
     "text": [
      "2.6.0-dev20210510\n"
     ]
    }
   ],
   "source": [
    "# import libraries\n",
    "try:\n",
    "  # %tensorflow_version only exists in Colab.\n",
    "  !pip install tf-nightly\n",
    "except Exception:\n",
    "  pass\n",
    "import tensorflow as tf\n",
    "import pandas as pd\n",
    "from tensorflow import keras\n",
    "!pip install tensorflow-datasets\n",
    "import tensorflow_datasets as tfds\n",
    "import numpy as np\n",
    "import matplotlib.pyplot as plt\n",
    "\n",
    "\n",
    "from keras.preprocessing import sequence\n",
    "\n",
    "\n",
    "import os\n",
    "\n",
    "\n",
    "print(tf.__version__)"
   ]
  },
  {
   "cell_type": "code",
   "execution_count": 71,
   "metadata": {
    "id": "lMHwYXHXCar3"
   },
   "outputs": [
    {
     "name": "stdout",
     "output_type": "stream",
     "text": [
      "--2021-05-10 21:35:22--  https://cdn.freecodecamp.org/project-data/sms/train-data.tsv\n",
      "Resolving cdn.freecodecamp.org (cdn.freecodecamp.org)... 104.26.2.33, 104.26.3.33, 172.67.70.149, ...\n",
      "Connecting to cdn.freecodecamp.org (cdn.freecodecamp.org)|104.26.2.33|:443... connected.\n",
      "HTTP request sent, awaiting response... 200 OK\n",
      "Length: 358233 (350K) [text/tab-separated-values]\n",
      "Saving to: ‘train-data.tsv.1’\n",
      "\n",
      "train-data.tsv.1    100%[===================>] 349.84K  --.-KB/s    in 0.04s   \n",
      "\n",
      "2021-05-10 21:35:23 (9.04 MB/s) - ‘train-data.tsv.1’ saved [358233/358233]\n",
      "\n",
      "--2021-05-10 21:35:23--  https://cdn.freecodecamp.org/project-data/sms/valid-data.tsv\n",
      "Resolving cdn.freecodecamp.org (cdn.freecodecamp.org)... 172.67.70.149, 104.26.3.33, 104.26.2.33, ...\n",
      "Connecting to cdn.freecodecamp.org (cdn.freecodecamp.org)|172.67.70.149|:443... connected.\n",
      "HTTP request sent, awaiting response... 200 OK\n",
      "Length: 118774 (116K) [text/tab-separated-values]\n",
      "Saving to: ‘valid-data.tsv.1’\n",
      "\n",
      "valid-data.tsv.1    100%[===================>] 115.99K  --.-KB/s    in 0.02s   \n",
      "\n",
      "2021-05-10 21:35:23 (6.00 MB/s) - ‘valid-data.tsv.1’ saved [118774/118774]\n",
      "\n"
     ]
    }
   ],
   "source": [
    "# get data files\n",
    "!wget https://cdn.freecodecamp.org/project-data/sms/train-data.tsv\n",
    "!wget https://cdn.freecodecamp.org/project-data/sms/valid-data.tsv\n",
    "\n",
    "train_file_path = \"train-data.tsv\"\n",
    "test_file_path = \"valid-data.tsv\""
   ]
  },
  {
   "cell_type": "code",
   "execution_count": 72,
   "metadata": {
    "id": "g_h508FEClxO"
   },
   "outputs": [],
   "source": [
    "train_dataset = pd.read_csv(train_file_path, sep = '\\t', names=['type', 'text'])\n",
    "test_dataset = pd.read_csv(test_file_path, sep = '\\t', names = ['type', 'text'])\n"
   ]
  },
  {
   "cell_type": "code",
   "execution_count": 73,
   "metadata": {},
   "outputs": [
    {
     "data": {
      "text/html": [
       "<div>\n",
       "<style scoped>\n",
       "    .dataframe tbody tr th:only-of-type {\n",
       "        vertical-align: middle;\n",
       "    }\n",
       "\n",
       "    .dataframe tbody tr th {\n",
       "        vertical-align: top;\n",
       "    }\n",
       "\n",
       "    .dataframe thead th {\n",
       "        text-align: right;\n",
       "    }\n",
       "</style>\n",
       "<table border=\"1\" class=\"dataframe\">\n",
       "  <thead>\n",
       "    <tr style=\"text-align: right;\">\n",
       "      <th></th>\n",
       "      <th>type</th>\n",
       "      <th>text</th>\n",
       "    </tr>\n",
       "  </thead>\n",
       "  <tbody>\n",
       "    <tr>\n",
       "      <th>4174</th>\n",
       "      <td>ham</td>\n",
       "      <td>just woke up. yeesh its late. but i didn't fal...</td>\n",
       "    </tr>\n",
       "    <tr>\n",
       "      <th>4175</th>\n",
       "      <td>ham</td>\n",
       "      <td>what do u reckon as need 2 arrange transport i...</td>\n",
       "    </tr>\n",
       "    <tr>\n",
       "      <th>4176</th>\n",
       "      <td>spam</td>\n",
       "      <td>free entry into our £250 weekly competition ju...</td>\n",
       "    </tr>\n",
       "    <tr>\n",
       "      <th>4177</th>\n",
       "      <td>spam</td>\n",
       "      <td>-pls stop bootydelious (32/f) is inviting you ...</td>\n",
       "    </tr>\n",
       "    <tr>\n",
       "      <th>4178</th>\n",
       "      <td>ham</td>\n",
       "      <td>tell my  bad character which u dnt lik in me. ...</td>\n",
       "    </tr>\n",
       "  </tbody>\n",
       "</table>\n",
       "</div>"
      ],
      "text/plain": [
       "      type                                               text\n",
       "4174   ham  just woke up. yeesh its late. but i didn't fal...\n",
       "4175   ham  what do u reckon as need 2 arrange transport i...\n",
       "4176  spam  free entry into our £250 weekly competition ju...\n",
       "4177  spam  -pls stop bootydelious (32/f) is inviting you ...\n",
       "4178   ham  tell my  bad character which u dnt lik in me. ..."
      ]
     },
     "execution_count": 73,
     "metadata": {},
     "output_type": "execute_result"
    }
   ],
   "source": [
    "train_dataset.tail()"
   ]
  },
  {
   "cell_type": "code",
   "execution_count": 74,
   "metadata": {},
   "outputs": [
    {
     "data": {
      "text/html": [
       "<div>\n",
       "<style scoped>\n",
       "    .dataframe tbody tr th:only-of-type {\n",
       "        vertical-align: middle;\n",
       "    }\n",
       "\n",
       "    .dataframe tbody tr th {\n",
       "        vertical-align: top;\n",
       "    }\n",
       "\n",
       "    .dataframe thead th {\n",
       "        text-align: right;\n",
       "    }\n",
       "</style>\n",
       "<table border=\"1\" class=\"dataframe\">\n",
       "  <thead>\n",
       "    <tr style=\"text-align: right;\">\n",
       "      <th></th>\n",
       "      <th>type</th>\n",
       "      <th>text</th>\n",
       "    </tr>\n",
       "  </thead>\n",
       "  <tbody>\n",
       "    <tr>\n",
       "      <th>0</th>\n",
       "      <td>ham</td>\n",
       "      <td>i am in hospital da. . i will return home in e...</td>\n",
       "    </tr>\n",
       "    <tr>\n",
       "      <th>1</th>\n",
       "      <td>ham</td>\n",
       "      <td>not much, just some textin'. how bout you?</td>\n",
       "    </tr>\n",
       "    <tr>\n",
       "      <th>2</th>\n",
       "      <td>ham</td>\n",
       "      <td>i probably won't eat at all today. i think i'm...</td>\n",
       "    </tr>\n",
       "    <tr>\n",
       "      <th>3</th>\n",
       "      <td>ham</td>\n",
       "      <td>don‘t give a flying monkeys wot they think and...</td>\n",
       "    </tr>\n",
       "    <tr>\n",
       "      <th>4</th>\n",
       "      <td>ham</td>\n",
       "      <td>who are you seeing?</td>\n",
       "    </tr>\n",
       "  </tbody>\n",
       "</table>\n",
       "</div>"
      ],
      "text/plain": [
       "  type                                               text\n",
       "0  ham  i am in hospital da. . i will return home in e...\n",
       "1  ham         not much, just some textin'. how bout you?\n",
       "2  ham  i probably won't eat at all today. i think i'm...\n",
       "3  ham  don‘t give a flying monkeys wot they think and...\n",
       "4  ham                                who are you seeing?"
      ]
     },
     "execution_count": 74,
     "metadata": {},
     "output_type": "execute_result"
    }
   ],
   "source": [
    "test_dataset.head()"
   ]
  },
  {
   "cell_type": "code",
   "execution_count": 75,
   "metadata": {},
   "outputs": [
    {
     "data": {
      "text/plain": [
       "type    0\n",
       "text    0\n",
       "dtype: int64"
      ]
     },
     "execution_count": 75,
     "metadata": {},
     "output_type": "execute_result"
    }
   ],
   "source": [
    "train_dataset.isnull().sum()"
   ]
  },
  {
   "cell_type": "code",
   "execution_count": 76,
   "metadata": {},
   "outputs": [
    {
     "data": {
      "text/plain": [
       "type    0\n",
       "text    0\n",
       "dtype: int64"
      ]
     },
     "execution_count": 76,
     "metadata": {},
     "output_type": "execute_result"
    }
   ],
   "source": [
    "test_dataset.isnull().sum()"
   ]
  },
  {
   "cell_type": "code",
   "execution_count": 77,
   "metadata": {},
   "outputs": [
    {
     "data": {
      "text/plain": [
       "type    object\n",
       "text    object\n",
       "dtype: object"
      ]
     },
     "execution_count": 77,
     "metadata": {},
     "output_type": "execute_result"
    }
   ],
   "source": [
    "train_dataset.dtypes"
   ]
  },
  {
   "cell_type": "code",
   "execution_count": 78,
   "metadata": {},
   "outputs": [
    {
     "data": {
      "text/plain": [
       "'now u sound like manky scouse boy steve,like! i is travelling on da bus home.wot has u inmind 4 recreation dis eve?'"
      ]
     },
     "execution_count": 78,
     "metadata": {},
     "output_type": "execute_result"
    }
   ],
   "source": [
    "train_dataset.text[2]"
   ]
  },
  {
   "cell_type": "code",
   "execution_count": 79,
   "metadata": {},
   "outputs": [],
   "source": [
    "vocab = {}  \n",
    "word_encoding = 1\n",
    "def one_hot_encoding(text):\n",
    "  global word_encoding\n",
    "\n",
    "  words = text.lower().split(\" \") \n",
    "  encoding = []  \n",
    "\n",
    "  for word in words:\n",
    "    if word in vocab:\n",
    "      code = vocab[word]  \n",
    "      encoding.append(code) \n",
    "    else:\n",
    "      vocab[word] = word_encoding\n",
    "      encoding.append(word_encoding)\n",
    "      word_encoding += 1\n",
    "  \n",
    "  return encoding"
   ]
  },
  {
   "cell_type": "code",
   "execution_count": 80,
   "metadata": {},
   "outputs": [
    {
     "data": {
      "text/plain": [
       "4179"
      ]
     },
     "execution_count": 80,
     "metadata": {},
     "output_type": "execute_result"
    }
   ],
   "source": [
    "len(train_dataset)"
   ]
  },
  {
   "cell_type": "code",
   "execution_count": 81,
   "metadata": {},
   "outputs": [
    {
     "data": {
      "text/plain": [
       "'ahhhh...just woken up!had a bad dream about u tho,so i dont like u right now :) i didnt know anything about comedy night but i guess im up for it.'"
      ]
     },
     "execution_count": 81,
     "metadata": {},
     "output_type": "execute_result"
    }
   ],
   "source": [
    "train_dataset.text[0]"
   ]
  },
  {
   "cell_type": "code",
   "execution_count": 82,
   "metadata": {},
   "outputs": [
    {
     "data": {
      "text/html": [
       "<div>\n",
       "<style scoped>\n",
       "    .dataframe tbody tr th:only-of-type {\n",
       "        vertical-align: middle;\n",
       "    }\n",
       "\n",
       "    .dataframe tbody tr th {\n",
       "        vertical-align: top;\n",
       "    }\n",
       "\n",
       "    .dataframe thead th {\n",
       "        text-align: right;\n",
       "    }\n",
       "</style>\n",
       "<table border=\"1\" class=\"dataframe\">\n",
       "  <thead>\n",
       "    <tr style=\"text-align: right;\">\n",
       "      <th></th>\n",
       "      <th>type</th>\n",
       "      <th>text</th>\n",
       "    </tr>\n",
       "  </thead>\n",
       "  <tbody>\n",
       "    <tr>\n",
       "      <th>0</th>\n",
       "      <td>ham</td>\n",
       "      <td>[1, 2, 3, 4, 5, 6, 7, 8, 9, 10, 11, 12, 8, 13,...</td>\n",
       "    </tr>\n",
       "    <tr>\n",
       "      <th>1</th>\n",
       "      <td>ham</td>\n",
       "      <td>[27, 28, 29, 30, 31]</td>\n",
       "    </tr>\n",
       "    <tr>\n",
       "      <th>2</th>\n",
       "      <td>ham</td>\n",
       "      <td>[14, 8, 32, 12, 33, 34, 35, 36, 10, 37, 38, 39...</td>\n",
       "    </tr>\n",
       "    <tr>\n",
       "      <th>3</th>\n",
       "      <td>ham</td>\n",
       "      <td>[49, 50, 51, 52, 53, 54, 55, 56, 55, 57, 28, 5...</td>\n",
       "    </tr>\n",
       "    <tr>\n",
       "      <th>4</th>\n",
       "      <td>ham</td>\n",
       "      <td>[29, 63, 64, 10, 65, 66, 67, 68, 69, 70, 71, 7...</td>\n",
       "    </tr>\n",
       "  </tbody>\n",
       "</table>\n",
       "</div>"
      ],
      "text/plain": [
       "  type                                               text\n",
       "0  ham  [1, 2, 3, 4, 5, 6, 7, 8, 9, 10, 11, 12, 8, 13,...\n",
       "1  ham                               [27, 28, 29, 30, 31]\n",
       "2  ham  [14, 8, 32, 12, 33, 34, 35, 36, 10, 37, 38, 39...\n",
       "3  ham  [49, 50, 51, 52, 53, 54, 55, 56, 55, 57, 28, 5...\n",
       "4  ham  [29, 63, 64, 10, 65, 66, 67, 68, 69, 70, 71, 7..."
      ]
     },
     "execution_count": 82,
     "metadata": {},
     "output_type": "execute_result"
    }
   ],
   "source": [
    "for i in range(0,len(train_dataset)):\n",
    "        train_dataset.text[i] = one_hot_encoding(train_dataset.text[i])\n",
    "train_dataset.head()"
   ]
  },
  {
   "cell_type": "code",
   "execution_count": 83,
   "metadata": {},
   "outputs": [
    {
     "data": {
      "text/html": [
       "<div>\n",
       "<style scoped>\n",
       "    .dataframe tbody tr th:only-of-type {\n",
       "        vertical-align: middle;\n",
       "    }\n",
       "\n",
       "    .dataframe tbody tr th {\n",
       "        vertical-align: top;\n",
       "    }\n",
       "\n",
       "    .dataframe thead th {\n",
       "        text-align: right;\n",
       "    }\n",
       "</style>\n",
       "<table border=\"1\" class=\"dataframe\">\n",
       "  <thead>\n",
       "    <tr style=\"text-align: right;\">\n",
       "      <th></th>\n",
       "      <th>type</th>\n",
       "      <th>text</th>\n",
       "    </tr>\n",
       "  </thead>\n",
       "  <tbody>\n",
       "    <tr>\n",
       "      <th>0</th>\n",
       "      <td>ham</td>\n",
       "      <td>[10, 305, 78, 3350, 338, 808, 10, 272, 2224, 3...</td>\n",
       "    </tr>\n",
       "    <tr>\n",
       "      <th>1</th>\n",
       "      <td>ham</td>\n",
       "      <td>[306, 5208, 148, 345, 11332, 108, 2432, 3541]</td>\n",
       "    </tr>\n",
       "    <tr>\n",
       "      <th>2</th>\n",
       "      <td>ham</td>\n",
       "      <td>[10, 936, 1387, 775, 202, 196, 630, 10, 851, 2...</td>\n",
       "    </tr>\n",
       "    <tr>\n",
       "      <th>3</th>\n",
       "      <td>ham</td>\n",
       "      <td>[9036, 234, 4, 11334, 11335, 2665, 115, 851, 1...</td>\n",
       "    </tr>\n",
       "    <tr>\n",
       "      <th>4</th>\n",
       "      <td>ham</td>\n",
       "      <td>[867, 231, 27, 11336]</td>\n",
       "    </tr>\n",
       "  </tbody>\n",
       "</table>\n",
       "</div>"
      ],
      "text/plain": [
       "  type                                               text\n",
       "0  ham  [10, 305, 78, 3350, 338, 808, 10, 272, 2224, 3...\n",
       "1  ham      [306, 5208, 148, 345, 11332, 108, 2432, 3541]\n",
       "2  ham  [10, 936, 1387, 775, 202, 196, 630, 10, 851, 2...\n",
       "3  ham  [9036, 234, 4, 11334, 11335, 2665, 115, 851, 1...\n",
       "4  ham                              [867, 231, 27, 11336]"
      ]
     },
     "execution_count": 83,
     "metadata": {},
     "output_type": "execute_result"
    }
   ],
   "source": [
    "for i in range(0,len(test_dataset)):\n",
    "        test_dataset.text[i] = one_hot_encoding(test_dataset.text[i])\n",
    "test_dataset.head()"
   ]
  },
  {
   "cell_type": "code",
   "execution_count": 84,
   "metadata": {},
   "outputs": [
    {
     "data": {
      "text/html": [
       "<div>\n",
       "<style scoped>\n",
       "    .dataframe tbody tr th:only-of-type {\n",
       "        vertical-align: middle;\n",
       "    }\n",
       "\n",
       "    .dataframe tbody tr th {\n",
       "        vertical-align: top;\n",
       "    }\n",
       "\n",
       "    .dataframe thead th {\n",
       "        text-align: right;\n",
       "    }\n",
       "</style>\n",
       "<table border=\"1\" class=\"dataframe\">\n",
       "  <thead>\n",
       "    <tr style=\"text-align: right;\">\n",
       "      <th></th>\n",
       "      <th>type</th>\n",
       "      <th>text</th>\n",
       "    </tr>\n",
       "  </thead>\n",
       "  <tbody>\n",
       "    <tr>\n",
       "      <th>0</th>\n",
       "      <td>0</td>\n",
       "      <td>[1, 2, 3, 4, 5, 6, 7, 8, 9, 10, 11, 12, 8, 13,...</td>\n",
       "    </tr>\n",
       "    <tr>\n",
       "      <th>1</th>\n",
       "      <td>0</td>\n",
       "      <td>[27, 28, 29, 30, 31]</td>\n",
       "    </tr>\n",
       "    <tr>\n",
       "      <th>2</th>\n",
       "      <td>0</td>\n",
       "      <td>[14, 8, 32, 12, 33, 34, 35, 36, 10, 37, 38, 39...</td>\n",
       "    </tr>\n",
       "    <tr>\n",
       "      <th>3</th>\n",
       "      <td>0</td>\n",
       "      <td>[49, 50, 51, 52, 53, 54, 55, 56, 55, 57, 28, 5...</td>\n",
       "    </tr>\n",
       "    <tr>\n",
       "      <th>4</th>\n",
       "      <td>0</td>\n",
       "      <td>[29, 63, 64, 10, 65, 66, 67, 68, 69, 70, 71, 7...</td>\n",
       "    </tr>\n",
       "  </tbody>\n",
       "</table>\n",
       "</div>"
      ],
      "text/plain": [
       "   type                                               text\n",
       "0     0  [1, 2, 3, 4, 5, 6, 7, 8, 9, 10, 11, 12, 8, 13,...\n",
       "1     0                               [27, 28, 29, 30, 31]\n",
       "2     0  [14, 8, 32, 12, 33, 34, 35, 36, 10, 37, 38, 39...\n",
       "3     0  [49, 50, 51, 52, 53, 54, 55, 56, 55, 57, 28, 5...\n",
       "4     0  [29, 63, 64, 10, 65, 66, 67, 68, 69, 70, 71, 7..."
      ]
     },
     "execution_count": 84,
     "metadata": {},
     "output_type": "execute_result"
    }
   ],
   "source": [
    "labels = {} # creation of a dictionary\n",
    "values = train_dataset.type.astype('category') # convert the values into category type\n",
    "labels['type'] = values.cat.categories # creates and index object who contains the encode for the types in values\n",
    "train_dataset['type'] = values.cat.codes  # encode the data\n",
    "train_dataset.head()"
   ]
  },
  {
   "cell_type": "code",
   "execution_count": 85,
   "metadata": {},
   "outputs": [],
   "source": [
    "labels = {} # creation of a dictionary\n",
    "values = test_dataset.type.astype('category') # convert the values into category type\n",
    "labels['type'] = values.cat.categories # creates and index object who contains the encode for the types in values\n",
    "test_dataset['type'] = values.cat.codes  # encode the data\n"
   ]
  },
  {
   "cell_type": "code",
   "execution_count": 86,
   "metadata": {},
   "outputs": [
    {
     "data": {
      "text/html": [
       "<div>\n",
       "<style scoped>\n",
       "    .dataframe tbody tr th:only-of-type {\n",
       "        vertical-align: middle;\n",
       "    }\n",
       "\n",
       "    .dataframe tbody tr th {\n",
       "        vertical-align: top;\n",
       "    }\n",
       "\n",
       "    .dataframe thead th {\n",
       "        text-align: right;\n",
       "    }\n",
       "</style>\n",
       "<table border=\"1\" class=\"dataframe\">\n",
       "  <thead>\n",
       "    <tr style=\"text-align: right;\">\n",
       "      <th></th>\n",
       "      <th>type</th>\n",
       "      <th>text</th>\n",
       "    </tr>\n",
       "  </thead>\n",
       "  <tbody>\n",
       "    <tr>\n",
       "      <th>1387</th>\n",
       "      <td>0</td>\n",
       "      <td>[329, 13480, 1326, 53, 149, 2554, 153, 4339, 1...</td>\n",
       "    </tr>\n",
       "    <tr>\n",
       "      <th>1388</th>\n",
       "      <td>0</td>\n",
       "      <td>[838, 272, 51, 30, 78, 84, 10869, 9523]</td>\n",
       "    </tr>\n",
       "    <tr>\n",
       "      <th>1389</th>\n",
       "      <td>0</td>\n",
       "      <td>[992, 231, 27, 218, 838, 231, 27, 378, 218, 23...</td>\n",
       "    </tr>\n",
       "    <tr>\n",
       "      <th>1390</th>\n",
       "      <td>1</td>\n",
       "      <td>[182, 9147, 37, 5987, 533, 3877, 390, 53, 9148...</td>\n",
       "    </tr>\n",
       "    <tr>\n",
       "      <th>1391</th>\n",
       "      <td>1</td>\n",
       "      <td>[306, 9466, 123, 10546, 4, 3711, 121, 45, 4223...</td>\n",
       "    </tr>\n",
       "  </tbody>\n",
       "</table>\n",
       "</div>"
      ],
      "text/plain": [
       "      type                                               text\n",
       "1387     0  [329, 13480, 1326, 53, 149, 2554, 153, 4339, 1...\n",
       "1388     0            [838, 272, 51, 30, 78, 84, 10869, 9523]\n",
       "1389     0  [992, 231, 27, 218, 838, 231, 27, 378, 218, 23...\n",
       "1390     1  [182, 9147, 37, 5987, 533, 3877, 390, 53, 9148...\n",
       "1391     1  [306, 9466, 123, 10546, 4, 3711, 121, 45, 4223..."
      ]
     },
     "execution_count": 86,
     "metadata": {},
     "output_type": "execute_result"
    }
   ],
   "source": [
    "test_dataset.tail()"
   ]
  },
  {
   "cell_type": "code",
   "execution_count": 87,
   "metadata": {},
   "outputs": [],
   "source": [
    "MAXLEN = 100\n",
    "train_dataset.text = sequence.pad_sequences(train_dataset.text, MAXLEN)\n",
    "test_dataset.text = sequence.pad_sequences(test_dataset.text, MAXLEN)"
   ]
  },
  {
   "cell_type": "code",
   "execution_count": 88,
   "metadata": {},
   "outputs": [
    {
     "name": "stdout",
     "output_type": "stream",
     "text": [
      "(4179, 1)\n",
      "(1392, 1)\n"
     ]
    }
   ],
   "source": [
    "train_labels = train_dataset.pop('type')\n",
    "test_labels = test_dataset.pop('type')\n",
    "print(train_dataset.shape)\n",
    "print(test_dataset.shape)"
   ]
  },
  {
   "cell_type": "code",
   "execution_count": 91,
   "metadata": {},
   "outputs": [
    {
     "name": "stdout",
     "output_type": "stream",
     "text": [
      "(4179,)\n",
      "(1392,)\n"
     ]
    }
   ],
   "source": [
    "print(train_labels.shape)\n",
    "print(test_labels.shape)"
   ]
  },
  {
   "cell_type": "code",
   "execution_count": 99,
   "metadata": {},
   "outputs": [],
   "source": [
    "VOCAB_SIZE = len(vocab)"
   ]
  },
  {
   "cell_type": "code",
   "execution_count": 100,
   "metadata": {},
   "outputs": [],
   "source": [
    "model = tf.keras.Sequential([\n",
    "    tf.keras.layers.Embedding(VOCAB_SIZE, 32), # embedding layer\n",
    "    tf.keras.layers.LSTM(32), # internal layer LSTM\n",
    "    tf.keras.layers.Dense(1, activation=\"sigmoid\") # final dense layer, dense because we need to predict the sentiment and is the result of the layer.\n",
    "])# we use a signmoid function because is between 0 and 1 and we can categorize a bad review in zero and a good in one. "
   ]
  },
  {
   "cell_type": "code",
   "execution_count": 101,
   "metadata": {},
   "outputs": [
    {
     "name": "stdout",
     "output_type": "stream",
     "text": [
      "Model: \"sequential\"\n",
      "_________________________________________________________________\n",
      "Layer (type)                 Output Shape              Param #   \n",
      "=================================================================\n",
      "embedding (Embedding)        (None, None, 32)          431520    \n",
      "_________________________________________________________________\n",
      "lstm (LSTM)                  (None, 32)                8320      \n",
      "_________________________________________________________________\n",
      "dense (Dense)                (None, 1)                 33        \n",
      "=================================================================\n",
      "Total params: 439,873\n",
      "Trainable params: 439,873\n",
      "Non-trainable params: 0\n",
      "_________________________________________________________________\n"
     ]
    }
   ],
   "source": [
    "model.summary()"
   ]
  },
  {
   "cell_type": "code",
   "execution_count": 102,
   "metadata": {},
   "outputs": [],
   "source": [
    "model.compile(loss=\"binary_crossentropy\", # loss function check documentation\n",
    "              optimizer=\"rmsprop\", # optimizer for the model\n",
    "              metrics=['acc']) # read documentation\n"
   ]
  },
  {
   "cell_type": "code",
   "execution_count": 103,
   "metadata": {},
   "outputs": [
    {
     "name": "stdout",
     "output_type": "stream",
     "text": [
      "Epoch 1/10\n",
      "92/92 [==============================] - 2s 7ms/step - loss: 0.5133 - acc: 0.8721 - val_loss: 0.4201 - val_acc: 0.8517\n",
      "Epoch 2/10\n",
      "92/92 [==============================] - 0s 4ms/step - loss: 0.3840 - acc: 0.8721 - val_loss: 0.4230 - val_acc: 0.8517\n",
      "Epoch 3/10\n",
      "92/92 [==============================] - 0s 4ms/step - loss: 0.3837 - acc: 0.8721 - val_loss: 0.4215 - val_acc: 0.8517\n",
      "Epoch 4/10\n",
      "92/92 [==============================] - 0s 4ms/step - loss: 0.3835 - acc: 0.8721 - val_loss: 0.4216 - val_acc: 0.8517\n",
      "Epoch 5/10\n",
      "92/92 [==============================] - 0s 4ms/step - loss: 0.3838 - acc: 0.8721 - val_loss: 0.4222 - val_acc: 0.8517\n",
      "Epoch 6/10\n",
      "92/92 [==============================] - 0s 4ms/step - loss: 0.3836 - acc: 0.8721 - val_loss: 0.4212 - val_acc: 0.8517\n",
      "Epoch 7/10\n",
      "92/92 [==============================] - 0s 5ms/step - loss: 0.3838 - acc: 0.8721 - val_loss: 0.4222 - val_acc: 0.8517\n",
      "Epoch 8/10\n",
      "92/92 [==============================] - 1s 6ms/step - loss: 0.3833 - acc: 0.8721 - val_loss: 0.4204 - val_acc: 0.8517\n",
      "Epoch 9/10\n",
      "92/92 [==============================] - 0s 5ms/step - loss: 0.3834 - acc: 0.8721 - val_loss: 0.4211 - val_acc: 0.8517\n",
      "Epoch 10/10\n",
      "92/92 [==============================] - 0s 5ms/step - loss: 0.3834 - acc: 0.8721 - val_loss: 0.4233 - val_acc: 0.8517\n"
     ]
    }
   ],
   "source": [
    "#TRAIN\n",
    "history = model.fit(train_dataset, train_labels, epochs=10, validation_split=0.3) # train "
   ]
  },
  {
   "cell_type": "code",
   "execution_count": 104,
   "metadata": {},
   "outputs": [
    {
     "name": "stdout",
     "output_type": "stream",
     "text": [
      "44/44 [==============================] - 0s 2ms/step - loss: 0.3953 - acc: 0.8657\n",
      "[0.39532431960105896, 0.8656609058380127]\n"
     ]
    }
   ],
   "source": [
    "results = model.evaluate(test_dataset, test_labels)\n",
    "print(results)"
   ]
  },
  {
   "cell_type": "code",
   "execution_count": 116,
   "metadata": {},
   "outputs": [],
   "source": [
    "word_index = vocab\n",
    "def encode_text(text):\n",
    "  tokens = keras.preprocessing.text.text_to_word_sequence(text) # processing words\n",
    "  tokens = [word_index[word] if word in word_index else 0 for word in tokens] # give the numbers\n",
    "  return sequence.pad_sequences([tokens], MAXLEN)[0] # make clusters of sequences of maxlen\n"
   ]
  },
  {
   "cell_type": "code",
   "execution_count": 110,
   "metadata": {},
   "outputs": [
    {
     "data": {
      "text/plain": [
       "array([   0,    0,    0,    0,    0,    0,    0,    0,    0,    0,    0,\n",
       "          0,    0,    0,    0,    0,    0,    0,    0,    0,    0,    0,\n",
       "          0,    0,    0,    0,    0,    0,    0,    0,    0,    0,    0,\n",
       "          0,    0,    0,    0,    0,    0,    0,    0,    0,    0,    0,\n",
       "          0,    0,    0,    0,    0,    0,    0,    0,    0,    0,    0,\n",
       "          0,    0,    0,    0,    0,    0,    0,    0,    0,    0,    0,\n",
       "          0,    0,    0,    0,    0,    0,    0,    0,    0,    0,    0,\n",
       "          0,    0,    0,    0,    0,    0,  148,    2,   24,  666,    4,\n",
       "          5,    6,    7,    8, 2475,  165,   10,   11,   12,    8,   13,\n",
       "         14], dtype=int32)"
      ]
     },
     "execution_count": 110,
     "metadata": {},
     "output_type": "execute_result"
    }
   ],
   "source": [
    "encode_text('just woken up!had a bad dream about u tho,so i dont like u right now')"
   ]
  },
  {
   "cell_type": "code",
   "execution_count": 111,
   "metadata": {},
   "outputs": [],
   "source": [
    "reverse_word_index = {value: key for (key, value) in word_index.items()}\n",
    "\n",
    "def decode_integers(integers):\n",
    "    PAD = 0\n",
    "    text = \"\"\n",
    "    for num in integers:\n",
    "      if num != PAD:\n",
    "        text += reverse_word_index[num] + \" \"\n",
    "\n",
    "    return text[:-1]  # omitimos el espacio del final\n"
   ]
  },
  {
   "cell_type": "code",
   "execution_count": 113,
   "metadata": {},
   "outputs": [
    {
     "data": {
      "text/plain": [
       "'just woken up had a bad dream about u tho so i dont like u right now'"
      ]
     },
     "execution_count": 113,
     "metadata": {},
     "output_type": "execute_result"
    }
   ],
   "source": [
    "decode_integers(encode_text('just woken up!had a bad dream about u tho,so i dont like u right now'))"
   ]
  },
  {
   "cell_type": "code",
   "execution_count": null,
   "metadata": {},
   "outputs": [],
   "source": [
    "def predict(text):\n",
    "  encoded_text = encode_text(text)\n",
    "  print(encoded_text, \"\\n\")\n",
    "  pred = np.zeros((1,250))\n",
    "  pred[0] = encoded_text\n",
    "  print(pred , \"\\n\")\n",
    "  result = model.predict(pred) \n",
    "  print(result[0])\n"
   ]
  },
  {
   "cell_type": "code",
   "execution_count": 157,
   "metadata": {},
   "outputs": [
    {
     "ename": "TypeError",
     "evalue": "Cannot interpret '1' as a data type",
     "output_type": "error",
     "traceback": [
      "\u001b[0;31m---------------------------------------------------------------------------\u001b[0m",
      "\u001b[0;31mTypeError\u001b[0m                                 Traceback (most recent call last)",
      "\u001b[0;32m<ipython-input-157-19d9a34625ad>\u001b[0m in \u001b[0;36m<module>\u001b[0;34m\u001b[0m\n\u001b[0;32m----> 1\u001b[0;31m \u001b[0mnp\u001b[0m\u001b[0;34m.\u001b[0m\u001b[0mzeros\u001b[0m\u001b[0;34m(\u001b[0m\u001b[0;36m2\u001b[0m\u001b[0;34m,\u001b[0m\u001b[0;34m(\u001b[0m\u001b[0;36m1\u001b[0m\u001b[0;34m,\u001b[0m\u001b[0;36m10\u001b[0m\u001b[0;34m)\u001b[0m\u001b[0;34m)\u001b[0m\u001b[0;34m\u001b[0m\u001b[0;34m\u001b[0m\u001b[0m\n\u001b[0m",
      "\u001b[0;31mTypeError\u001b[0m: Cannot interpret '1' as a data type"
     ]
    }
   ],
   "source": [
    "np.zeros(2,(1,10))"
   ]
  },
  {
   "cell_type": "code",
   "execution_count": 178,
   "metadata": {
    "id": "J9tD9yACG6M9"
   },
   "outputs": [],
   "source": [
    "# function to predict messages based on model\n",
    "# (should return list containing prediction and label, ex. [0.008318834938108921, 'ham'])\n",
    "def predict_message(pred_text):\n",
    "    encoded_text = encode_text(pred_text)\n",
    "    print(encoded_text, '\\n')\n",
    "    prediction = np.zeros((1,100))\n",
    "    prediction[0] = encoded_text\n",
    "    print(prediction, '\\n')\n",
    "    result = model.predict(prediction)\n",
    "    #print('result ', result[0])\n",
    "    prediction1 = [pred_text,'b']\n",
    "    if result[0] <=0.5:\n",
    "        prediction1[1] = 'spam'\n",
    "    else:\n",
    "        prediction1[1] = 'ham'\n",
    "    print(result[0])\n",
    "    return (prediction1)\n",
    "\n"
   ]
  },
  {
   "cell_type": "code",
   "execution_count": 179,
   "metadata": {},
   "outputs": [
    {
     "name": "stdout",
     "output_type": "stream",
     "text": [
      "[  0   0   0   0   0   0   0   0   0   0   0   0   0   0   0   0   0   0\n",
      "   0   0   0   0   0   0   0   0   0   0   0   0   0   0   0   0   0   0\n",
      "   0   0   0   0   0   0   0   0   0   0   0   0   0   0   0   0   0   0\n",
      "   0   0   0   0   0   0   0   0   0   0   0   0   0   0   0   0   0   0\n",
      "   0   0   0   0   0   0   0   0   0   0   0   0   0   0   0   0   0   0\n",
      "   0   0   0   0   0 108 231  27 378 292] \n",
      "\n",
      "[[  0.   0.   0.   0.   0.   0.   0.   0.   0.   0.   0.   0.   0.   0.\n",
      "    0.   0.   0.   0.   0.   0.   0.   0.   0.   0.   0.   0.   0.   0.\n",
      "    0.   0.   0.   0.   0.   0.   0.   0.   0.   0.   0.   0.   0.   0.\n",
      "    0.   0.   0.   0.   0.   0.   0.   0.   0.   0.   0.   0.   0.   0.\n",
      "    0.   0.   0.   0.   0.   0.   0.   0.   0.   0.   0.   0.   0.   0.\n",
      "    0.   0.   0.   0.   0.   0.   0.   0.   0.   0.   0.   0.   0.   0.\n",
      "    0.   0.   0.   0.   0.   0.   0.   0.   0.   0.   0. 108. 231.  27.\n",
      "  378. 292.]] \n",
      "\n",
      "[0.18168068]\n"
     ]
    }
   ],
   "source": [
    "pred_text = \"how are you doing today?\"\n",
    "\n",
    "prediction = predict_message(pred_text)\n"
   ]
  },
  {
   "cell_type": "code",
   "execution_count": 180,
   "metadata": {},
   "outputs": [
    {
     "name": "stdout",
     "output_type": "stream",
     "text": [
      "['how are you doing today?', 'spam']\n"
     ]
    }
   ],
   "source": [
    "print(prediction)"
   ]
  },
  {
   "cell_type": "code",
   "execution_count": 181,
   "metadata": {},
   "outputs": [],
   "source": [
    "test_messages1 = [\"how are you doing today\",\n",
    "                   \"sale today! to stop texts call 98912460324\",\n",
    "                   \"i dont want to go. can we try it a different day? available sat\",\n",
    "                   \"our new mobile video service is live. just install on your phone to start watching.\",\n",
    "                   \"you have won £1000 cash! call to claim your prize.\",\n",
    "                   \"i'll bring it tomorrow. don't forget the milk.\",\n",
    "                   \"wow, is your arm alright. that happened to me one time too\"\n",
    "                  ]"
   ]
  },
  {
   "cell_type": "code",
   "execution_count": 182,
   "metadata": {},
   "outputs": [
    {
     "name": "stdout",
     "output_type": "stream",
     "text": [
      "[    0     0     0     0     0     0     0     0     0     0     0     0\n",
      "     0     0     0     0     0     0     0     0     0     0     0     0\n",
      "     0     0     0     0     0     0     0     0     0     0     0     0\n",
      "     0     0     0     0     0     0     0     0     0     0     0     0\n",
      "     0     0     0     0     0     0     0     0     0     0     0     0\n",
      "     0     0     0     0     0     0     0     0     0     0     0     0\n",
      "     0     0     0     0     0     0     0     0     0     0     0     0\n",
      "     0   198   513   496   613   926    37  1278   148 12533    39   109\n",
      "   879    53  1284  1810] \n",
      "\n",
      "[[    0.     0.     0.     0.     0.     0.     0.     0.     0.     0.\n",
      "      0.     0.     0.     0.     0.     0.     0.     0.     0.     0.\n",
      "      0.     0.     0.     0.     0.     0.     0.     0.     0.     0.\n",
      "      0.     0.     0.     0.     0.     0.     0.     0.     0.     0.\n",
      "      0.     0.     0.     0.     0.     0.     0.     0.     0.     0.\n",
      "      0.     0.     0.     0.     0.     0.     0.     0.     0.     0.\n",
      "      0.     0.     0.     0.     0.     0.     0.     0.     0.     0.\n",
      "      0.     0.     0.     0.     0.     0.     0.     0.     0.     0.\n",
      "      0.     0.     0.     0.     0.   198.   513.   496.   613.   926.\n",
      "     37.  1278.   148. 12533.    39.   109.   879.    53.  1284.  1810.]] \n",
      "\n",
      "[0.26184154]\n"
     ]
    },
    {
     "data": {
      "text/plain": [
       "['our new mobile video service is live. just install on your phone to start watching.',\n",
       " 'spam']"
      ]
     },
     "execution_count": 182,
     "metadata": {},
     "output_type": "execute_result"
    }
   ],
   "source": [
    "predict_message(test_messages1[3])"
   ]
  },
  {
   "cell_type": "code",
   "execution_count": 183,
   "metadata": {
    "id": "Dxotov85SjsC"
   },
   "outputs": [
    {
     "name": "stdout",
     "output_type": "stream",
     "text": [
      "[  0   0   0   0   0   0   0   0   0   0   0   0   0   0   0   0   0   0\n",
      "   0   0   0   0   0   0   0   0   0   0   0   0   0   0   0   0   0   0\n",
      "   0   0   0   0   0   0   0   0   0   0   0   0   0   0   0   0   0   0\n",
      "   0   0   0   0   0   0   0   0   0   0   0   0   0   0   0   0   0   0\n",
      "   0   0   0   0   0   0   0   0   0   0   0   0   0   0   0   0   0   0\n",
      "   0   0   0   0   0 108 231  27 378 292] \n",
      "\n",
      "[[  0.   0.   0.   0.   0.   0.   0.   0.   0.   0.   0.   0.   0.   0.\n",
      "    0.   0.   0.   0.   0.   0.   0.   0.   0.   0.   0.   0.   0.   0.\n",
      "    0.   0.   0.   0.   0.   0.   0.   0.   0.   0.   0.   0.   0.   0.\n",
      "    0.   0.   0.   0.   0.   0.   0.   0.   0.   0.   0.   0.   0.   0.\n",
      "    0.   0.   0.   0.   0.   0.   0.   0.   0.   0.   0.   0.   0.   0.\n",
      "    0.   0.   0.   0.   0.   0.   0.   0.   0.   0.   0.   0.   0.   0.\n",
      "    0.   0.   0.   0.   0.   0.   0.   0.   0.   0.   0. 108. 231.  27.\n",
      "  378. 292.]] \n",
      "\n",
      "[0.18168068]\n",
      "[   0    0    0    0    0    0    0    0    0    0    0    0    0    0\n",
      "    0    0    0    0    0    0    0    0    0    0    0    0    0    0\n",
      "    0    0    0    0    0    0    0    0    0    0    0    0    0    0\n",
      "    0    0    0    0    0    0    0    0    0    0    0    0    0    0\n",
      "    0    0    0    0    0    0    0    0    0    0    0    0    0    0\n",
      "    0    0    0    0    0    0    0    0    0    0    0    0    0    0\n",
      "    0    0    0    0    0    0    0    0    0 7738  292   53 1239 5041\n",
      "  121    0] \n",
      "\n",
      "[[   0.    0.    0.    0.    0.    0.    0.    0.    0.    0.    0.    0.\n",
      "     0.    0.    0.    0.    0.    0.    0.    0.    0.    0.    0.    0.\n",
      "     0.    0.    0.    0.    0.    0.    0.    0.    0.    0.    0.    0.\n",
      "     0.    0.    0.    0.    0.    0.    0.    0.    0.    0.    0.    0.\n",
      "     0.    0.    0.    0.    0.    0.    0.    0.    0.    0.    0.    0.\n",
      "     0.    0.    0.    0.    0.    0.    0.    0.    0.    0.    0.    0.\n",
      "     0.    0.    0.    0.    0.    0.    0.    0.    0.    0.    0.    0.\n",
      "     0.    0.    0.    0.    0.    0.    0.    0.    0. 7738.  292.   53.\n",
      "  1239. 5041.  121.    0.]] \n",
      "\n",
      "[0.05733237]\n",
      "[   0    0    0    0    0    0    0    0    0    0    0    0    0    0\n",
      "    0    0    0    0    0    0    0    0    0    0    0    0    0    0\n",
      "    0    0    0    0    0    0    0    0    0    0    0    0    0    0\n",
      "    0    0    0    0    0    0    0    0    0    0    0    0    0    0\n",
      "    0    0    0    0    0    0    0    0    0    0    0    0    0    0\n",
      "    0    0    0    0    0    0    0    0    0    0    0    0    0    0\n",
      "    0    0   10   11  236   53   54   28   51  641  257    4 8655   70\n",
      " 2112 1326] \n",
      "\n",
      "[[0.000e+00 0.000e+00 0.000e+00 0.000e+00 0.000e+00 0.000e+00 0.000e+00\n",
      "  0.000e+00 0.000e+00 0.000e+00 0.000e+00 0.000e+00 0.000e+00 0.000e+00\n",
      "  0.000e+00 0.000e+00 0.000e+00 0.000e+00 0.000e+00 0.000e+00 0.000e+00\n",
      "  0.000e+00 0.000e+00 0.000e+00 0.000e+00 0.000e+00 0.000e+00 0.000e+00\n",
      "  0.000e+00 0.000e+00 0.000e+00 0.000e+00 0.000e+00 0.000e+00 0.000e+00\n",
      "  0.000e+00 0.000e+00 0.000e+00 0.000e+00 0.000e+00 0.000e+00 0.000e+00\n",
      "  0.000e+00 0.000e+00 0.000e+00 0.000e+00 0.000e+00 0.000e+00 0.000e+00\n",
      "  0.000e+00 0.000e+00 0.000e+00 0.000e+00 0.000e+00 0.000e+00 0.000e+00\n",
      "  0.000e+00 0.000e+00 0.000e+00 0.000e+00 0.000e+00 0.000e+00 0.000e+00\n",
      "  0.000e+00 0.000e+00 0.000e+00 0.000e+00 0.000e+00 0.000e+00 0.000e+00\n",
      "  0.000e+00 0.000e+00 0.000e+00 0.000e+00 0.000e+00 0.000e+00 0.000e+00\n",
      "  0.000e+00 0.000e+00 0.000e+00 0.000e+00 0.000e+00 0.000e+00 0.000e+00\n",
      "  0.000e+00 0.000e+00 1.000e+01 1.100e+01 2.360e+02 5.300e+01 5.400e+01\n",
      "  2.800e+01 5.100e+01 6.410e+02 2.570e+02 4.000e+00 8.655e+03 7.000e+01\n",
      "  2.112e+03 1.326e+03]] \n",
      "\n",
      "[0.2765513]\n",
      "[    0     0     0     0     0     0     0     0     0     0     0     0\n",
      "     0     0     0     0     0     0     0     0     0     0     0     0\n",
      "     0     0     0     0     0     0     0     0     0     0     0     0\n",
      "     0     0     0     0     0     0     0     0     0     0     0     0\n",
      "     0     0     0     0     0     0     0     0     0     0     0     0\n",
      "     0     0     0     0     0     0     0     0     0     0     0     0\n",
      "     0     0     0     0     0     0     0     0     0     0     0     0\n",
      "     0   198   513   496   613   926    37  1278   148 12533    39   109\n",
      "   879    53  1284  1810] \n",
      "\n",
      "[[    0.     0.     0.     0.     0.     0.     0.     0.     0.     0.\n",
      "      0.     0.     0.     0.     0.     0.     0.     0.     0.     0.\n",
      "      0.     0.     0.     0.     0.     0.     0.     0.     0.     0.\n",
      "      0.     0.     0.     0.     0.     0.     0.     0.     0.     0.\n",
      "      0.     0.     0.     0.     0.     0.     0.     0.     0.     0.\n",
      "      0.     0.     0.     0.     0.     0.     0.     0.     0.     0.\n",
      "      0.     0.     0.     0.     0.     0.     0.     0.     0.     0.\n",
      "      0.     0.     0.     0.     0.     0.     0.     0.     0.     0.\n",
      "      0.     0.     0.     0.     0.   198.   513.   496.   613.   926.\n",
      "     37.  1278.   148. 12533.    39.   109.   879.    53.  1284.  1810.]] \n",
      "\n",
      "[0.26184154]\n",
      "[   0    0    0    0    0    0    0    0    0    0    0    0    0    0\n",
      "    0    0    0    0    0    0    0    0    0    0    0    0    0    0\n",
      "    0    0    0    0    0    0    0    0    0    0    0    0    0    0\n",
      "    0    0    0    0    0    0    0    0    0    0    0    0    0    0\n",
      "    0    0    0    0    0    0    0    0    0    0    0    0    0    0\n",
      "    0    0    0    0    0    0    0    0    0    0    0    0    0    0\n",
      "    0    0    0    0    0    0   27  145 1034 1196  131  121   53 1038\n",
      "  109 1197] \n",
      "\n",
      "[[   0.    0.    0.    0.    0.    0.    0.    0.    0.    0.    0.    0.\n",
      "     0.    0.    0.    0.    0.    0.    0.    0.    0.    0.    0.    0.\n",
      "     0.    0.    0.    0.    0.    0.    0.    0.    0.    0.    0.    0.\n",
      "     0.    0.    0.    0.    0.    0.    0.    0.    0.    0.    0.    0.\n",
      "     0.    0.    0.    0.    0.    0.    0.    0.    0.    0.    0.    0.\n",
      "     0.    0.    0.    0.    0.    0.    0.    0.    0.    0.    0.    0.\n",
      "     0.    0.    0.    0.    0.    0.    0.    0.    0.    0.    0.    0.\n",
      "     0.    0.    0.    0.    0.    0.   27.  145. 1034. 1196.  131.  121.\n",
      "    53. 1038.  109. 1197.]] \n",
      "\n",
      "[0.25005898]\n",
      "[   0    0    0    0    0    0    0    0    0    0    0    0    0    0\n",
      "    0    0    0    0    0    0    0    0    0    0    0    0    0    0\n",
      "    0    0    0    0    0    0    0    0    0    0    0    0    0    0\n",
      "    0    0    0    0    0    0    0    0    0    0    0    0    0    0\n",
      "    0    0    0    0    0    0    0    0    0    0    0    0    0    0\n",
      "    0    0    0    0    0    0    0    0    0    0    0    0    0    0\n",
      "    0    0    0    0    0    0    0    0 1172 1961  257  649  555 1017\n",
      "   84 8707] \n",
      "\n",
      "[[   0.    0.    0.    0.    0.    0.    0.    0.    0.    0.    0.    0.\n",
      "     0.    0.    0.    0.    0.    0.    0.    0.    0.    0.    0.    0.\n",
      "     0.    0.    0.    0.    0.    0.    0.    0.    0.    0.    0.    0.\n",
      "     0.    0.    0.    0.    0.    0.    0.    0.    0.    0.    0.    0.\n",
      "     0.    0.    0.    0.    0.    0.    0.    0.    0.    0.    0.    0.\n",
      "     0.    0.    0.    0.    0.    0.    0.    0.    0.    0.    0.    0.\n",
      "     0.    0.    0.    0.    0.    0.    0.    0.    0.    0.    0.    0.\n",
      "     0.    0.    0.    0.    0.    0.    0.    0. 1172. 1961.  257.  649.\n",
      "   555. 1017.   84. 8707.]] \n",
      "\n",
      "[0.24273577]\n",
      "[    0     0     0     0     0     0     0     0     0     0     0     0\n",
      "     0     0     0     0     0     0     0     0     0     0     0     0\n",
      "     0     0     0     0     0     0     0     0     0     0     0     0\n",
      "     0     0     0     0     0     0     0     0     0     0     0     0\n",
      "     0     0     0     0     0     0     0     0     0     0     0     0\n",
      "     0     0     0     0     0     0     0     0     0     0     0     0\n",
      "     0     0     0     0     0     0     0     0     0     0     0     0\n",
      "     0     0     0     0  1440    37   109 10810  1965   144   704    53\n",
      "    73   521   457   435] \n",
      "\n",
      "[[    0.     0.     0.     0.     0.     0.     0.     0.     0.     0.\n",
      "      0.     0.     0.     0.     0.     0.     0.     0.     0.     0.\n",
      "      0.     0.     0.     0.     0.     0.     0.     0.     0.     0.\n",
      "      0.     0.     0.     0.     0.     0.     0.     0.     0.     0.\n",
      "      0.     0.     0.     0.     0.     0.     0.     0.     0.     0.\n",
      "      0.     0.     0.     0.     0.     0.     0.     0.     0.     0.\n",
      "      0.     0.     0.     0.     0.     0.     0.     0.     0.     0.\n",
      "      0.     0.     0.     0.     0.     0.     0.     0.     0.     0.\n",
      "      0.     0.     0.     0.     0.     0.     0.     0.  1440.    37.\n",
      "    109. 10810.  1965.   144.   704.    53.    73.   521.   457.   435.]] \n",
      "\n",
      "[0.26139686]\n",
      "You haven't passed yet. Keep trying.\n"
     ]
    }
   ],
   "source": [
    "# Run this cell to test your function and model. Do not modify contents.\n",
    "def test_predictions():\n",
    "  test_messages = [\"how are you doing today\",\n",
    "                   \"sale today! to stop texts call 98912460324\",\n",
    "                   \"i dont want to go. can we try it a different day? available sat\",\n",
    "                   \"our new mobile video service is live. just install on your phone to start watching.\",\n",
    "                   \"you have won £1000 cash! call to claim your prize.\",\n",
    "                   \"i'll bring it tomorrow. don't forget the milk.\",\n",
    "                   \"wow, is your arm alright. that happened to me one time too\"\n",
    "                  ]\n",
    "\n",
    "  test_answers = [\"ham\", \"spam\", \"ham\", \"spam\", \"spam\", \"ham\", \"ham\"]\n",
    "  passed = True\n",
    "\n",
    "  for msg, ans in zip(test_messages, test_answers):\n",
    "    prediction = predict_message(msg)\n",
    "    if prediction[1] != ans:\n",
    "      passed = False\n",
    "\n",
    "  if passed:\n",
    "    print(\"You passed the challenge. Great job!\")\n",
    "  else:\n",
    "    print(\"You haven't passed yet. Keep trying.\")\n",
    "\n",
    "test_predictions()\n"
   ]
  },
  {
   "cell_type": "code",
   "execution_count": null,
   "metadata": {},
   "outputs": [],
   "source": []
  }
 ],
 "metadata": {
  "colab": {
   "collapsed_sections": [],
   "name": "fcc_sms_text_classification.ipynb",
   "private_outputs": true,
   "provenance": [],
   "toc_visible": true
  },
  "kernelspec": {
   "display_name": "Python 3",
   "language": "python",
   "name": "python3"
  },
  "language_info": {
   "codemirror_mode": {
    "name": "ipython",
    "version": 3
   },
   "file_extension": ".py",
   "mimetype": "text/x-python",
   "name": "python",
   "nbconvert_exporter": "python",
   "pygments_lexer": "ipython3",
   "version": "3.8.5"
  }
 },
 "nbformat": 4,
 "nbformat_minor": 1
}
