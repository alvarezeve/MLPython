{
<<<<<<< HEAD
 "cells": [
  {
   "cell_type": "markdown",
   "metadata": {
    "id": "M9TX15KOkPBV"
   },
   "source": [
    "*Note: You are currently reading this using Google Colaboratory which is a cloud-hosted version of Jupyter Notebook. This is a document containing both text cells for documentation and runnable code cells. If you are unfamiliar with Jupyter Notebook, watch this 3-minute introduction before starting this challenge: https://www.youtube.com/watch?v=inN8seMm7UI*\n",
    "\n",
    "---\n",
    "\n",
    "In this challenge, you will predict healthcare costs using a regression algorithm.\n",
    "\n",
    "You are given a dataset that contains information about different people including their healthcare costs. Use the data to predict healthcare costs based on new data.\n",
    "\n",
    "The first two cells of this notebook import libraries and the data.\n",
    "\n",
    "Make sure to convert categorical data to numbers. Use 80% of the data as the `train_dataset` and 20% of the data as the `test_dataset`.\n",
    "\n",
    "`pop` off the \"expenses\" column from these datasets to create new datasets called `train_labels` and `test_labels`. Use these labels when training your model.\n",
    "\n",
    "Create a model and train it with the `train_dataset`. Run the final cell in this notebook to check your model. The final cell will use the unseen `test_dataset` to check how well the model generalizes.\n",
    "\n",
    "To pass the challenge, `model.evaluate` must return a Mean Absolute Error of under 3500. This means it predicts health care costs correctly within $3500.\n",
    "\n",
    "The final cell will also predict expenses using the `test_dataset` and graph the results."
   ]
  },
  {
   "cell_type": "code",
   "execution_count": 7,
   "metadata": {
    "id": "1rRo8oNqZ-Rj"
   },
   "outputs": [],
   "source": [
    "# Import libraries. You may or may not use all of these.\n",
    "#!pip install -q git+https://github.com/tensorflow/docs\n",
    "import matplotlib.pyplot as plt\n",
    "import numpy as np\n",
    "import pandas as pd\n",
    "import seaborn as sns\n",
    "\n",
    "try:\n",
    "  # %tensorflow_version only exists in Colab.\n",
    "  %tensorflow_version 2.x\n",
    "except Exception:\n",
    "  pass\n",
    "import tensorflow as tf\n",
    "\n",
    "from tensorflow import keras\n",
    "from tensorflow.keras import layers\n",
    "\n",
    "import tensorflow_docs as tfdocs\n",
    "import tensorflow_docs.plots\n",
    "import tensorflow_docs.modeling"
   ]
  },
  {
   "cell_type": "code",
   "execution_count": 8,
   "metadata": {
    "id": "CiX2FI4gZtTt"
   },
   "outputs": [
    {
     "name": "stdout",
     "output_type": "stream",
     "text": [
      "--2021-05-09 13:07:23--  https://cdn.freecodecamp.org/project-data/health-costs/insurance.csv\n",
      "Resolving cdn.freecodecamp.org (cdn.freecodecamp.org)... failed: Temporary failure in name resolution.\n",
      "wget: unable to resolve host address ‘cdn.freecodecamp.org’\n"
     ]
    },
    {
     "data": {
      "text/html": [
       "<div>\n",
       "<style scoped>\n",
       "    .dataframe tbody tr th:only-of-type {\n",
       "        vertical-align: middle;\n",
       "    }\n",
       "\n",
       "    .dataframe tbody tr th {\n",
       "        vertical-align: top;\n",
       "    }\n",
       "\n",
       "    .dataframe thead th {\n",
       "        text-align: right;\n",
       "    }\n",
       "</style>\n",
       "<table border=\"1\" class=\"dataframe\">\n",
       "  <thead>\n",
       "    <tr style=\"text-align: right;\">\n",
       "      <th></th>\n",
       "      <th>age</th>\n",
       "      <th>sex</th>\n",
       "      <th>bmi</th>\n",
       "      <th>children</th>\n",
       "      <th>smoker</th>\n",
       "      <th>region</th>\n",
       "      <th>expenses</th>\n",
       "    </tr>\n",
       "  </thead>\n",
       "  <tbody>\n",
       "    <tr>\n",
       "      <th>1333</th>\n",
       "      <td>50</td>\n",
       "      <td>male</td>\n",
       "      <td>31.0</td>\n",
       "      <td>3</td>\n",
       "      <td>no</td>\n",
       "      <td>northwest</td>\n",
       "      <td>10600.55</td>\n",
       "    </tr>\n",
       "    <tr>\n",
       "      <th>1334</th>\n",
       "      <td>18</td>\n",
       "      <td>female</td>\n",
       "      <td>31.9</td>\n",
       "      <td>0</td>\n",
       "      <td>no</td>\n",
       "      <td>northeast</td>\n",
       "      <td>2205.98</td>\n",
       "    </tr>\n",
       "    <tr>\n",
       "      <th>1335</th>\n",
       "      <td>18</td>\n",
       "      <td>female</td>\n",
       "      <td>36.9</td>\n",
       "      <td>0</td>\n",
       "      <td>no</td>\n",
       "      <td>southeast</td>\n",
       "      <td>1629.83</td>\n",
       "    </tr>\n",
       "    <tr>\n",
       "      <th>1336</th>\n",
       "      <td>21</td>\n",
       "      <td>female</td>\n",
       "      <td>25.8</td>\n",
       "      <td>0</td>\n",
       "      <td>no</td>\n",
       "      <td>southwest</td>\n",
       "      <td>2007.95</td>\n",
       "    </tr>\n",
       "    <tr>\n",
       "      <th>1337</th>\n",
       "      <td>61</td>\n",
       "      <td>female</td>\n",
       "      <td>29.1</td>\n",
       "      <td>0</td>\n",
       "      <td>yes</td>\n",
       "      <td>northwest</td>\n",
       "      <td>29141.36</td>\n",
       "    </tr>\n",
       "  </tbody>\n",
       "</table>\n",
       "</div>"
      ],
      "text/plain": [
       "      age     sex   bmi  children smoker     region  expenses\n",
       "1333   50    male  31.0         3     no  northwest  10600.55\n",
       "1334   18  female  31.9         0     no  northeast   2205.98\n",
       "1335   18  female  36.9         0     no  southeast   1629.83\n",
       "1336   21  female  25.8         0     no  southwest   2007.95\n",
       "1337   61  female  29.1         0    yes  northwest  29141.36"
      ]
     },
     "execution_count": 8,
     "metadata": {},
     "output_type": "execute_result"
    }
   ],
   "source": [
    "# Import data\n",
    "!wget https://cdn.freecodecamp.org/project-data/health-costs/insurance.csv\n",
    "dataset = pd.read_csv('insurance.csv')\n",
    "dataset.tail()"
   ]
  },
  {
   "cell_type": "code",
   "execution_count": 11,
   "metadata": {},
   "outputs": [
    {
     "data": {
      "text/plain": [
       "age         0\n",
       "sex         0\n",
       "bmi         0\n",
       "children    0\n",
       "smoker      0\n",
       "region      0\n",
       "expenses    0\n",
       "dtype: int64"
      ]
     },
     "execution_count": 11,
     "metadata": {},
     "output_type": "execute_result"
    }
   ],
   "source": [
    "# check if there are missing values\n",
    "dataset.isnull().sum()"
   ]
  },
  {
   "cell_type": "markdown",
   "metadata": {},
   "source": [
    "So we don't have any missing value.\n",
    "\n",
    "For define categorical and numerical values we can check the type."
   ]
  },
  {
   "cell_type": "code",
   "execution_count": 12,
   "metadata": {},
   "outputs": [
    {
     "data": {
      "text/plain": [
       "age           int64\n",
       "sex          object\n",
       "bmi         float64\n",
       "children      int64\n",
       "smoker       object\n",
       "region       object\n",
       "expenses    float64\n",
       "dtype: object"
      ]
     },
     "execution_count": 12,
     "metadata": {},
     "output_type": "execute_result"
    }
   ],
   "source": [
    "dataset.dtypes"
   ]
  },
  {
   "cell_type": "code",
   "execution_count": 14,
   "metadata": {},
   "outputs": [
    {
     "data": {
      "text/plain": [
       "southeast    364\n",
       "northwest    325\n",
       "southwest    325\n",
       "northeast    324\n",
       "Name: region, dtype: int64"
      ]
     },
     "execution_count": 14,
     "metadata": {},
     "output_type": "execute_result"
    }
   ],
   "source": [
    "dataset.region.value_counts()"
   ]
  },
  {
   "cell_type": "markdown",
   "metadata": {},
   "source": [
    "We need encode the data for passing to a model, so we encode the data one by one column."
   ]
  },
  {
   "cell_type": "code",
   "execution_count": 15,
   "metadata": {},
   "outputs": [
    {
     "data": {
      "text/html": [
       "<div>\n",
       "<style scoped>\n",
       "    .dataframe tbody tr th:only-of-type {\n",
       "        vertical-align: middle;\n",
       "    }\n",
       "\n",
       "    .dataframe tbody tr th {\n",
       "        vertical-align: top;\n",
       "    }\n",
       "\n",
       "    .dataframe thead th {\n",
       "        text-align: right;\n",
       "    }\n",
       "</style>\n",
       "<table border=\"1\" class=\"dataframe\">\n",
       "  <thead>\n",
       "    <tr style=\"text-align: right;\">\n",
       "      <th></th>\n",
       "      <th>age</th>\n",
       "      <th>sex</th>\n",
       "      <th>bmi</th>\n",
       "      <th>children</th>\n",
       "      <th>smoker</th>\n",
       "      <th>expenses</th>\n",
       "      <th>region_northeast</th>\n",
       "      <th>region_northwest</th>\n",
       "      <th>region_southeast</th>\n",
       "      <th>region_southwest</th>\n",
       "    </tr>\n",
       "  </thead>\n",
       "  <tbody>\n",
       "    <tr>\n",
       "      <th>0</th>\n",
       "      <td>19</td>\n",
       "      <td>female</td>\n",
       "      <td>27.9</td>\n",
       "      <td>0</td>\n",
       "      <td>yes</td>\n",
       "      <td>16884.92</td>\n",
       "      <td>0</td>\n",
       "      <td>0</td>\n",
       "      <td>0</td>\n",
       "      <td>1</td>\n",
       "    </tr>\n",
       "    <tr>\n",
       "      <th>1</th>\n",
       "      <td>18</td>\n",
       "      <td>male</td>\n",
       "      <td>33.8</td>\n",
       "      <td>1</td>\n",
       "      <td>no</td>\n",
       "      <td>1725.55</td>\n",
       "      <td>0</td>\n",
       "      <td>0</td>\n",
       "      <td>1</td>\n",
       "      <td>0</td>\n",
       "    </tr>\n",
       "    <tr>\n",
       "      <th>2</th>\n",
       "      <td>28</td>\n",
       "      <td>male</td>\n",
       "      <td>33.0</td>\n",
       "      <td>3</td>\n",
       "      <td>no</td>\n",
       "      <td>4449.46</td>\n",
       "      <td>0</td>\n",
       "      <td>0</td>\n",
       "      <td>1</td>\n",
       "      <td>0</td>\n",
       "    </tr>\n",
       "    <tr>\n",
       "      <th>3</th>\n",
       "      <td>33</td>\n",
       "      <td>male</td>\n",
       "      <td>22.7</td>\n",
       "      <td>0</td>\n",
       "      <td>no</td>\n",
       "      <td>21984.47</td>\n",
       "      <td>0</td>\n",
       "      <td>1</td>\n",
       "      <td>0</td>\n",
       "      <td>0</td>\n",
       "    </tr>\n",
       "    <tr>\n",
       "      <th>4</th>\n",
       "      <td>32</td>\n",
       "      <td>male</td>\n",
       "      <td>28.9</td>\n",
       "      <td>0</td>\n",
       "      <td>no</td>\n",
       "      <td>3866.86</td>\n",
       "      <td>0</td>\n",
       "      <td>1</td>\n",
       "      <td>0</td>\n",
       "      <td>0</td>\n",
       "    </tr>\n",
       "  </tbody>\n",
       "</table>\n",
       "</div>"
      ],
      "text/plain": [
       "   age     sex   bmi  children smoker  expenses  region_northeast  \\\n",
       "0   19  female  27.9         0    yes  16884.92                 0   \n",
       "1   18    male  33.8         1     no   1725.55                 0   \n",
       "2   28    male  33.0         3     no   4449.46                 0   \n",
       "3   33    male  22.7         0     no  21984.47                 0   \n",
       "4   32    male  28.9         0     no   3866.86                 0   \n",
       "\n",
       "   region_northwest  region_southeast  region_southwest  \n",
       "0                 0                 0                 1  \n",
       "1                 0                 1                 0  \n",
       "2                 0                 1                 0  \n",
       "3                 1                 0                 0  \n",
       "4                 1                 0                 0  "
      ]
     },
     "execution_count": 15,
     "metadata": {},
     "output_type": "execute_result"
    }
   ],
   "source": [
    "# now we need to transform the dataset in the case of the region column for being a column for each region\n",
    "# in this way we can encode easly the region using a binary value instead a integer array of values.\n",
    "# and we need to eliminate the region column at the end\n",
    "dataset = dataset.join(pd.get_dummies(dataset.region, 'region')).drop('region',axis=1)\n",
    "dataset.head()"
   ]
  },
  {
   "cell_type": "markdown",
   "metadata": {},
   "source": [
    "The Sex column"
   ]
  },
  {
   "cell_type": "code",
   "execution_count": 25,
   "metadata": {},
   "outputs": [],
   "source": [
    "labels = {}\n",
    "values = dataset.sex.astype('category') # change the type of the column to category and extract\n",
    "labels['sex'] = values.cat.categories # encode the values of the column as categories and add to the dictionary\n",
    "dataset['sex']  = values.cat.codes # encode the data in sex coolumn using the labels "
   ]
  },
  {
   "cell_type": "code",
   "execution_count": 26,
   "metadata": {},
   "outputs": [
    {
     "data": {
      "text/html": [
       "<div>\n",
       "<style scoped>\n",
       "    .dataframe tbody tr th:only-of-type {\n",
       "        vertical-align: middle;\n",
       "    }\n",
       "\n",
       "    .dataframe tbody tr th {\n",
       "        vertical-align: top;\n",
       "    }\n",
       "\n",
       "    .dataframe thead th {\n",
       "        text-align: right;\n",
       "    }\n",
       "</style>\n",
       "<table border=\"1\" class=\"dataframe\">\n",
       "  <thead>\n",
       "    <tr style=\"text-align: right;\">\n",
       "      <th></th>\n",
       "      <th>age</th>\n",
       "      <th>sex</th>\n",
       "      <th>bmi</th>\n",
       "      <th>children</th>\n",
       "      <th>smoker</th>\n",
       "      <th>expenses</th>\n",
       "      <th>region_northeast</th>\n",
       "      <th>region_northwest</th>\n",
       "      <th>region_southeast</th>\n",
       "      <th>region_southwest</th>\n",
       "    </tr>\n",
       "  </thead>\n",
       "  <tbody>\n",
       "    <tr>\n",
       "      <th>0</th>\n",
       "      <td>19</td>\n",
       "      <td>0</td>\n",
       "      <td>27.9</td>\n",
       "      <td>0</td>\n",
       "      <td>yes</td>\n",
       "      <td>16884.92</td>\n",
       "      <td>0</td>\n",
       "      <td>0</td>\n",
       "      <td>0</td>\n",
       "      <td>1</td>\n",
       "    </tr>\n",
       "    <tr>\n",
       "      <th>1</th>\n",
       "      <td>18</td>\n",
       "      <td>1</td>\n",
       "      <td>33.8</td>\n",
       "      <td>1</td>\n",
       "      <td>no</td>\n",
       "      <td>1725.55</td>\n",
       "      <td>0</td>\n",
       "      <td>0</td>\n",
       "      <td>1</td>\n",
       "      <td>0</td>\n",
       "    </tr>\n",
       "    <tr>\n",
       "      <th>2</th>\n",
       "      <td>28</td>\n",
       "      <td>1</td>\n",
       "      <td>33.0</td>\n",
       "      <td>3</td>\n",
       "      <td>no</td>\n",
       "      <td>4449.46</td>\n",
       "      <td>0</td>\n",
       "      <td>0</td>\n",
       "      <td>1</td>\n",
       "      <td>0</td>\n",
       "    </tr>\n",
       "    <tr>\n",
       "      <th>3</th>\n",
       "      <td>33</td>\n",
       "      <td>1</td>\n",
       "      <td>22.7</td>\n",
       "      <td>0</td>\n",
       "      <td>no</td>\n",
       "      <td>21984.47</td>\n",
       "      <td>0</td>\n",
       "      <td>1</td>\n",
       "      <td>0</td>\n",
       "      <td>0</td>\n",
       "    </tr>\n",
       "    <tr>\n",
       "      <th>4</th>\n",
       "      <td>32</td>\n",
       "      <td>1</td>\n",
       "      <td>28.9</td>\n",
       "      <td>0</td>\n",
       "      <td>no</td>\n",
       "      <td>3866.86</td>\n",
       "      <td>0</td>\n",
       "      <td>1</td>\n",
       "      <td>0</td>\n",
       "      <td>0</td>\n",
       "    </tr>\n",
       "  </tbody>\n",
       "</table>\n",
       "</div>"
      ],
      "text/plain": [
       "   age  sex   bmi  children smoker  expenses  region_northeast  \\\n",
       "0   19    0  27.9         0    yes  16884.92                 0   \n",
       "1   18    1  33.8         1     no   1725.55                 0   \n",
       "2   28    1  33.0         3     no   4449.46                 0   \n",
       "3   33    1  22.7         0     no  21984.47                 0   \n",
       "4   32    1  28.9         0     no   3866.86                 0   \n",
       "\n",
       "   region_northwest  region_southeast  region_southwest  \n",
       "0                 0                 0                 1  \n",
       "1                 0                 1                 0  \n",
       "2                 0                 1                 0  \n",
       "3                 1                 0                 0  \n",
       "4                 1                 0                 0  "
      ]
     },
     "execution_count": 26,
     "metadata": {},
     "output_type": "execute_result"
    }
   ],
   "source": [
    "dataset.head()"
   ]
  },
  {
   "cell_type": "markdown",
   "metadata": {},
   "source": [
    "The smoker column"
   ]
  },
  {
   "cell_type": "code",
   "execution_count": 28,
   "metadata": {},
   "outputs": [
    {
     "data": {
      "text/html": [
       "<div>\n",
       "<style scoped>\n",
       "    .dataframe tbody tr th:only-of-type {\n",
       "        vertical-align: middle;\n",
       "    }\n",
       "\n",
       "    .dataframe tbody tr th {\n",
       "        vertical-align: top;\n",
       "    }\n",
       "\n",
       "    .dataframe thead th {\n",
       "        text-align: right;\n",
       "    }\n",
       "</style>\n",
       "<table border=\"1\" class=\"dataframe\">\n",
       "  <thead>\n",
       "    <tr style=\"text-align: right;\">\n",
       "      <th></th>\n",
       "      <th>age</th>\n",
       "      <th>sex</th>\n",
       "      <th>bmi</th>\n",
       "      <th>children</th>\n",
       "      <th>smoker</th>\n",
       "      <th>expenses</th>\n",
       "      <th>region_northeast</th>\n",
       "      <th>region_northwest</th>\n",
       "      <th>region_southeast</th>\n",
       "      <th>region_southwest</th>\n",
       "    </tr>\n",
       "  </thead>\n",
       "  <tbody>\n",
       "    <tr>\n",
       "      <th>0</th>\n",
       "      <td>19</td>\n",
       "      <td>0</td>\n",
       "      <td>27.9</td>\n",
       "      <td>0</td>\n",
       "      <td>1</td>\n",
       "      <td>16884.92</td>\n",
       "      <td>0</td>\n",
       "      <td>0</td>\n",
       "      <td>0</td>\n",
       "      <td>1</td>\n",
       "    </tr>\n",
       "    <tr>\n",
       "      <th>1</th>\n",
       "      <td>18</td>\n",
       "      <td>1</td>\n",
       "      <td>33.8</td>\n",
       "      <td>1</td>\n",
       "      <td>0</td>\n",
       "      <td>1725.55</td>\n",
       "      <td>0</td>\n",
       "      <td>0</td>\n",
       "      <td>1</td>\n",
       "      <td>0</td>\n",
       "    </tr>\n",
       "    <tr>\n",
       "      <th>2</th>\n",
       "      <td>28</td>\n",
       "      <td>1</td>\n",
       "      <td>33.0</td>\n",
       "      <td>3</td>\n",
       "      <td>0</td>\n",
       "      <td>4449.46</td>\n",
       "      <td>0</td>\n",
       "      <td>0</td>\n",
       "      <td>1</td>\n",
       "      <td>0</td>\n",
       "    </tr>\n",
       "    <tr>\n",
       "      <th>3</th>\n",
       "      <td>33</td>\n",
       "      <td>1</td>\n",
       "      <td>22.7</td>\n",
       "      <td>0</td>\n",
       "      <td>0</td>\n",
       "      <td>21984.47</td>\n",
       "      <td>0</td>\n",
       "      <td>1</td>\n",
       "      <td>0</td>\n",
       "      <td>0</td>\n",
       "    </tr>\n",
       "    <tr>\n",
       "      <th>4</th>\n",
       "      <td>32</td>\n",
       "      <td>1</td>\n",
       "      <td>28.9</td>\n",
       "      <td>0</td>\n",
       "      <td>0</td>\n",
       "      <td>3866.86</td>\n",
       "      <td>0</td>\n",
       "      <td>1</td>\n",
       "      <td>0</td>\n",
       "      <td>0</td>\n",
       "    </tr>\n",
       "  </tbody>\n",
       "</table>\n",
       "</div>"
      ],
      "text/plain": [
       "   age  sex   bmi  children  smoker  expenses  region_northeast  \\\n",
       "0   19    0  27.9         0       1  16884.92                 0   \n",
       "1   18    1  33.8         1       0   1725.55                 0   \n",
       "2   28    1  33.0         3       0   4449.46                 0   \n",
       "3   33    1  22.7         0       0  21984.47                 0   \n",
       "4   32    1  28.9         0       0   3866.86                 0   \n",
       "\n",
       "   region_northwest  region_southeast  region_southwest  \n",
       "0                 0                 0                 1  \n",
       "1                 0                 1                 0  \n",
       "2                 0                 1                 0  \n",
       "3                 1                 0                 0  \n",
       "4                 1                 0                 0  "
      ]
     },
     "execution_count": 28,
     "metadata": {},
     "output_type": "execute_result"
    }
   ],
   "source": [
    "values = dataset.smoker.astype('category')\n",
    "labels['smoker'] = values.cat.categories\n",
    "dataset['smoker'] = values.cat.codes\n",
    "dataset.head()"
   ]
  },
  {
   "cell_type": "markdown",
   "metadata": {},
   "source": [
    "Split the data."
   ]
  },
  {
   "cell_type": "code",
   "execution_count": 29,
   "metadata": {},
   "outputs": [],
   "source": [
    "# split train and test datasets\n",
    "# define the training size of the dataset to be 0.8%\n",
    "training_size = int(len(dataset)*0.8)\n",
    "#define the train and test sets\n",
    "train_dataset = dataset.iloc[:training_size, :]\n",
    "test_dataset = dataset.iloc[training_size:, :]"
   ]
  },
  {
   "cell_type": "code",
   "execution_count": 30,
   "metadata": {},
   "outputs": [
    {
     "name": "stdout",
     "output_type": "stream",
     "text": [
      "(1070, 10)\n",
      "(268, 10)\n"
     ]
    }
   ],
   "source": [
    "print(train_dataset.shape)\n",
    "print(test_dataset.shape)"
   ]
  },
  {
   "cell_type": "markdown",
   "metadata": {},
   "source": [
    "Drop the target column"
   ]
  },
  {
   "cell_type": "code",
   "execution_count": 31,
   "metadata": {},
   "outputs": [
    {
     "name": "stdout",
     "output_type": "stream",
     "text": [
      "(1070,)\n",
      "(268,)\n"
     ]
    }
   ],
   "source": [
    "train_labels  = train_dataset.pop('expenses')\n",
    "test_labels = test_dataset.pop('expenses')\n",
    "print(train_labels.shape)\n",
    "print(test_labels.shape)"
   ]
  },
  {
   "cell_type": "code",
   "execution_count": 32,
   "metadata": {},
   "outputs": [
    {
     "data": {
      "text/html": [
       "<div>\n",
       "<style scoped>\n",
       "    .dataframe tbody tr th:only-of-type {\n",
       "        vertical-align: middle;\n",
       "    }\n",
       "\n",
       "    .dataframe tbody tr th {\n",
       "        vertical-align: top;\n",
       "    }\n",
       "\n",
       "    .dataframe thead th {\n",
       "        text-align: right;\n",
       "    }\n",
       "</style>\n",
       "<table border=\"1\" class=\"dataframe\">\n",
       "  <thead>\n",
       "    <tr style=\"text-align: right;\">\n",
       "      <th></th>\n",
       "      <th>age</th>\n",
       "      <th>sex</th>\n",
       "      <th>bmi</th>\n",
       "      <th>children</th>\n",
       "      <th>smoker</th>\n",
       "      <th>region_northeast</th>\n",
       "      <th>region_northwest</th>\n",
       "      <th>region_southeast</th>\n",
       "      <th>region_southwest</th>\n",
       "    </tr>\n",
       "  </thead>\n",
       "  <tbody>\n",
       "    <tr>\n",
       "      <th>0</th>\n",
       "      <td>19</td>\n",
       "      <td>0</td>\n",
       "      <td>27.9</td>\n",
       "      <td>0</td>\n",
       "      <td>1</td>\n",
       "      <td>0</td>\n",
       "      <td>0</td>\n",
       "      <td>0</td>\n",
       "      <td>1</td>\n",
       "    </tr>\n",
       "    <tr>\n",
       "      <th>1</th>\n",
       "      <td>18</td>\n",
       "      <td>1</td>\n",
       "      <td>33.8</td>\n",
       "      <td>1</td>\n",
       "      <td>0</td>\n",
       "      <td>0</td>\n",
       "      <td>0</td>\n",
       "      <td>1</td>\n",
       "      <td>0</td>\n",
       "    </tr>\n",
       "    <tr>\n",
       "      <th>2</th>\n",
       "      <td>28</td>\n",
       "      <td>1</td>\n",
       "      <td>33.0</td>\n",
       "      <td>3</td>\n",
       "      <td>0</td>\n",
       "      <td>0</td>\n",
       "      <td>0</td>\n",
       "      <td>1</td>\n",
       "      <td>0</td>\n",
       "    </tr>\n",
       "    <tr>\n",
       "      <th>3</th>\n",
       "      <td>33</td>\n",
       "      <td>1</td>\n",
       "      <td>22.7</td>\n",
       "      <td>0</td>\n",
       "      <td>0</td>\n",
       "      <td>0</td>\n",
       "      <td>1</td>\n",
       "      <td>0</td>\n",
       "      <td>0</td>\n",
       "    </tr>\n",
       "    <tr>\n",
       "      <th>4</th>\n",
       "      <td>32</td>\n",
       "      <td>1</td>\n",
       "      <td>28.9</td>\n",
       "      <td>0</td>\n",
       "      <td>0</td>\n",
       "      <td>0</td>\n",
       "      <td>1</td>\n",
       "      <td>0</td>\n",
       "      <td>0</td>\n",
       "    </tr>\n",
       "  </tbody>\n",
       "</table>\n",
       "</div>"
      ],
      "text/plain": [
       "   age  sex   bmi  children  smoker  region_northeast  region_northwest  \\\n",
       "0   19    0  27.9         0       1                 0                 0   \n",
       "1   18    1  33.8         1       0                 0                 0   \n",
       "2   28    1  33.0         3       0                 0                 0   \n",
       "3   33    1  22.7         0       0                 0                 1   \n",
       "4   32    1  28.9         0       0                 0                 1   \n",
       "\n",
       "   region_southeast  region_southwest  \n",
       "0                 0                 1  \n",
       "1                 1                 0  \n",
       "2                 1                 0  \n",
       "3                 0                 0  \n",
       "4                 0                 0  "
      ]
     },
     "execution_count": 32,
     "metadata": {},
     "output_type": "execute_result"
    }
   ],
   "source": [
    "train_dataset.head()"
   ]
  },
  {
   "cell_type": "code",
   "execution_count": 33,
   "metadata": {},
   "outputs": [
    {
     "data": {
      "text/html": [
       "<div>\n",
       "<style scoped>\n",
       "    .dataframe tbody tr th:only-of-type {\n",
       "        vertical-align: middle;\n",
       "    }\n",
       "\n",
       "    .dataframe tbody tr th {\n",
       "        vertical-align: top;\n",
       "    }\n",
       "\n",
       "    .dataframe thead th {\n",
       "        text-align: right;\n",
       "    }\n",
       "</style>\n",
       "<table border=\"1\" class=\"dataframe\">\n",
       "  <thead>\n",
       "    <tr style=\"text-align: right;\">\n",
       "      <th></th>\n",
       "      <th>age</th>\n",
       "      <th>sex</th>\n",
       "      <th>bmi</th>\n",
       "      <th>children</th>\n",
       "      <th>smoker</th>\n",
       "      <th>region_northeast</th>\n",
       "      <th>region_northwest</th>\n",
       "      <th>region_southeast</th>\n",
       "      <th>region_southwest</th>\n",
       "    </tr>\n",
       "  </thead>\n",
       "  <tbody>\n",
       "    <tr>\n",
       "      <th>1070</th>\n",
       "      <td>37</td>\n",
       "      <td>1</td>\n",
       "      <td>37.1</td>\n",
       "      <td>1</td>\n",
       "      <td>1</td>\n",
       "      <td>0</td>\n",
       "      <td>0</td>\n",
       "      <td>1</td>\n",
       "      <td>0</td>\n",
       "    </tr>\n",
       "    <tr>\n",
       "      <th>1071</th>\n",
       "      <td>63</td>\n",
       "      <td>1</td>\n",
       "      <td>31.4</td>\n",
       "      <td>0</td>\n",
       "      <td>0</td>\n",
       "      <td>1</td>\n",
       "      <td>0</td>\n",
       "      <td>0</td>\n",
       "      <td>0</td>\n",
       "    </tr>\n",
       "    <tr>\n",
       "      <th>1072</th>\n",
       "      <td>21</td>\n",
       "      <td>1</td>\n",
       "      <td>31.3</td>\n",
       "      <td>0</td>\n",
       "      <td>0</td>\n",
       "      <td>0</td>\n",
       "      <td>1</td>\n",
       "      <td>0</td>\n",
       "      <td>0</td>\n",
       "    </tr>\n",
       "    <tr>\n",
       "      <th>1073</th>\n",
       "      <td>54</td>\n",
       "      <td>0</td>\n",
       "      <td>28.9</td>\n",
       "      <td>2</td>\n",
       "      <td>0</td>\n",
       "      <td>1</td>\n",
       "      <td>0</td>\n",
       "      <td>0</td>\n",
       "      <td>0</td>\n",
       "    </tr>\n",
       "    <tr>\n",
       "      <th>1074</th>\n",
       "      <td>60</td>\n",
       "      <td>0</td>\n",
       "      <td>18.3</td>\n",
       "      <td>0</td>\n",
       "      <td>0</td>\n",
       "      <td>1</td>\n",
       "      <td>0</td>\n",
       "      <td>0</td>\n",
       "      <td>0</td>\n",
       "    </tr>\n",
       "  </tbody>\n",
       "</table>\n",
       "</div>"
      ],
      "text/plain": [
       "      age  sex   bmi  children  smoker  region_northeast  region_northwest  \\\n",
       "1070   37    1  37.1         1       1                 0                 0   \n",
       "1071   63    1  31.4         0       0                 1                 0   \n",
       "1072   21    1  31.3         0       0                 0                 1   \n",
       "1073   54    0  28.9         2       0                 1                 0   \n",
       "1074   60    0  18.3         0       0                 1                 0   \n",
       "\n",
       "      region_southeast  region_southwest  \n",
       "1070                 1                 0  \n",
       "1071                 0                 0  \n",
       "1072                 0                 0  \n",
       "1073                 0                 0  \n",
       "1074                 0                 0  "
      ]
     },
     "execution_count": 33,
     "metadata": {},
     "output_type": "execute_result"
    }
   ],
   "source": [
    "test_dataset.head()"
   ]
  },
  {
   "cell_type": "markdown",
   "metadata": {},
   "source": [
    "Build the model"
   ]
  },
  {
   "cell_type": "code",
   "execution_count": 34,
   "metadata": {},
   "outputs": [],
   "source": [
    "model = tf.keras.models.Sequential([\n",
    "    tf.keras.layers.Input(shape=(len(train_dataset.keys()),)), # define the input layer\n",
    "    tf.keras.layers.BatchNormalization(), # define the second hidden layer\n",
    "    tf.keras.layers.Dense(64, activation='relu'), # define the layer for rectification \n",
    "    tf.keras.layers.Dense(64, activation='relu'),\n",
    "    tf.keras.layers.Dense(1)\n",
    "])"
   ]
  },
  {
   "cell_type": "markdown",
   "metadata": {},
   "source": [
    "Compile the model"
   ]
  },
  {
   "cell_type": "code",
   "execution_count": 35,
   "metadata": {},
   "outputs": [
    {
     "name": "stdout",
     "output_type": "stream",
     "text": [
      "Model: \"sequential\"\n",
      "_________________________________________________________________\n",
      "Layer (type)                 Output Shape              Param #   \n",
      "=================================================================\n",
      "batch_normalization (BatchNo (None, 9)                 36        \n",
      "_________________________________________________________________\n",
      "dense (Dense)                (None, 64)                640       \n",
      "_________________________________________________________________\n",
      "dense_1 (Dense)              (None, 64)                4160      \n",
      "_________________________________________________________________\n",
      "dense_2 (Dense)              (None, 1)                 65        \n",
      "=================================================================\n",
      "Total params: 4,901\n",
      "Trainable params: 4,883\n",
      "Non-trainable params: 18\n",
      "_________________________________________________________________\n"
     ]
    }
   ],
   "source": [
    "model.compile(\n",
    "    optimizer= tf.keras.optimizers.RMSprop(0.05),\n",
    "    loss='mse',\n",
    "    metrics=['mae', 'mse']\n",
    ")\n",
    "model.summary()"
   ]
  },
  {
   "cell_type": "code",
   "execution_count": 36,
   "metadata": {},
   "outputs": [],
   "source": [
    "# taken from tfdocs.modeling.EpochDots\n",
    "class EpochDots(keras.callbacks.Callback):\n",
    "  def on_epoch_end(self, epoch, logs):\n",
    "    if epoch % 100 == 0:\n",
    "      print()\n",
    "      print('Epoch: {:d}, '.format(epoch), end='')\n",
    "      for name, value in sorted(logs.items()):\n",
    "        print('{}:{:0.4f}'.format(name, value), end=', ')\n",
    "      print()\n",
    "\n",
    "    print('.', end='')"
   ]
  },
  {
   "cell_type": "markdown",
   "metadata": {},
   "source": [
    "Fit the model"
   ]
  },
  {
   "cell_type": "code",
   "execution_count": 37,
   "metadata": {},
   "outputs": [
    {
     "name": "stdout",
     "output_type": "stream",
     "text": [
      "\n",
      "Epoch: 0, loss:100522048.0000, mae:6564.0229, mse:100522048.0000, \n",
      "....................................................................................................\n",
      "Epoch: 100, loss:29813494.0000, mae:3356.9280, mse:29813494.0000, \n",
      "....................................................................................................\n",
      "Epoch: 200, loss:22353720.0000, mae:2908.6931, mse:22353720.0000, \n",
      "....................................................................................................\n",
      "Epoch: 300, loss:20963486.0000, mae:2826.5767, mse:20963486.0000, \n",
      "....................................................................................................\n",
      "Epoch: 400, loss:17948670.0000, mae:2510.5752, mse:17948670.0000, \n",
      "...................................................................................................."
     ]
    }
   ],
   "source": [
    "r = model.fit(train_dataset, train_labels, epochs=500,\n",
    "              verbose=0, callbacks=[EpochDots()])"
   ]
  },
  {
   "cell_type": "code",
   "execution_count": 38,
   "metadata": {},
   "outputs": [
    {
     "name": "stdout",
     "output_type": "stream",
     "text": [
      "9/9 - 0s - loss: 24556106.0000 - mae: 2812.8467 - mse: 24556106.0000\n",
      "[24556106.0, 2812.8466796875, 24556106.0]\n"
     ]
    }
   ],
   "source": [
    "res = model.evaluate(test_dataset, test_labels, verbose=2)\n",
    "print(res)"
   ]
  },
  {
   "cell_type": "code",
   "execution_count": 39,
   "metadata": {
    "id": "Xe7RXH3N3CWU"
   },
   "outputs": [
    {
     "name": "stdout",
     "output_type": "stream",
     "text": [
      "9/9 - 0s - loss: 24556106.0000 - mae: 2812.8467 - mse: 24556106.0000\n",
      "Testing set Mean Abs Error: 2812.85 expenses\n",
      "You passed the challenge. Great job!\n"
     ]
    },
    {
     "data": {
      "image/png": "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\n",
      "text/plain": [
       "<Figure size 432x288 with 1 Axes>"
      ]
     },
     "metadata": {
      "needs_background": "light"
     },
     "output_type": "display_data"
    }
   ],
   "source": [
    "# RUN THIS CELL TO TEST YOUR MODEL. DO NOT MODIFY CONTENTS.\n",
    "# Test model by checking how well the model generalizes using the test set.\n",
    "loss, mae, mse = model.evaluate(test_dataset, test_labels, verbose=2)\n",
    "\n",
    "print(\"Testing set Mean Abs Error: {:5.2f} expenses\".format(mae))\n",
    "\n",
    "if mae < 3500:\n",
    "  print(\"You passed the challenge. Great job!\")\n",
    "else:\n",
    "  print(\"The Mean Abs Error must be less than 3500. Keep trying.\")\n",
    "\n",
    "# Plot predictions.\n",
    "test_predictions = model.predict(test_dataset).flatten()\n",
    "\n",
    "a = plt.axes(aspect='equal')\n",
    "plt.scatter(test_labels, test_predictions)\n",
    "plt.xlabel('True values (expenses)')\n",
    "plt.ylabel('Predictions (expenses)')\n",
    "lims = [0, 50000]\n",
    "plt.xlim(lims)\n",
    "plt.ylim(lims)\n",
    "_ = plt.plot(lims,lims)\n"
   ]
  },
  {
   "cell_type": "code",
   "execution_count": null,
   "metadata": {},
   "outputs": [],
   "source": []
  }
 ],
 "metadata": {
  "colab": {
   "collapsed_sections": [],
   "name": "fcc_predict_health_costs_with_regression.ipynb",
   "private_outputs": true,
   "provenance": [],
   "toc_visible": true
  },
  "kernelspec": {
   "display_name": "Python 3",
   "language": "python",
   "name": "python3"
  },
  "language_info": {
   "codemirror_mode": {
    "name": "ipython",
    "version": 3
   },
   "file_extension": ".py",
   "mimetype": "text/x-python",
   "name": "python",
   "nbconvert_exporter": "python",
   "pygments_lexer": "ipython3",
   "version": "3.8.5"
  }
 },
 "nbformat": 4,
 "nbformat_minor": 1
}
=======
  "nbformat": 4,
  "nbformat_minor": 0,
  "metadata": {
    "colab": {
      "name": "fcc_predict_health_costs_with_regression.ipynb",
      "private_outputs": true,
      "provenance": [],
      "collapsed_sections": [],
      "toc_visible": true
    },
    "kernelspec": {
      "display_name": "Python 3",
      "name": "python3"
    }
  },
  "cells": [
    {
      "cell_type": "code",
      "metadata": {
        "id": "TtXBkO-dToi8"
      },
      "source": [
        "\n"
      ],
      "execution_count": null,
      "outputs": []
    },
    {
      "cell_type": "markdown",
      "metadata": {
        "id": "M9TX15KOkPBV"
      },
      "source": [
        "*Note: You are currently reading this using Google Colaboratory which is a cloud-hosted version of Jupyter Notebook. This is a document containing both text cells for documentation and runnable code cells. If you are unfamiliar with Jupyter Notebook, watch this 3-minute introduction before starting this challenge: https://www.youtube.com/watch?v=inN8seMm7UI*\n",
        "\n",
        "---\n",
        "\n",
        "In this challenge, you will predict healthcare costs using a regression algorithm.\n",
        "\n",
        "You are given a dataset that contains information about different people including their healthcare costs. Use the data to predict healthcare costs based on new data.\n",
        "\n",
        "The first two cells of this notebook import libraries and the data.\n",
        "\n",
        "Make sure to convert categorical data to numbers. Use 80% of the data as the `train_dataset` and 20% of the data as the `test_dataset`.\n",
        "\n",
        "`pop` off the \"expenses\" column from these datasets to create new datasets called `train_labels` and `test_labels`. Use these labels when training your model.\n",
        "\n",
        "Create a model and train it with the `train_dataset`. Run the final cell in this notebook to check your model. The final cell will use the unseen `test_dataset` to check how well the model generalizes.\n",
        "\n",
        "To pass the challenge, `model.evaluate` must return a Mean Absolute Error of under 3500. This means it predicts health care costs correctly within $3500.\n",
        "\n",
        "The final cell will also predict expenses using the `test_dataset` and graph the results."
      ]
    },
    {
      "cell_type": "code",
      "metadata": {
        "id": "1rRo8oNqZ-Rj"
      },
      "source": [
        "# Import libraries. You may or may not use all of these.\n",
        "!pip install -q git+https://github.com/tensorflow/docs\n",
        "import matplotlib.pyplot as plt\n",
        "import numpy as np\n",
        "import pandas as pd\n",
        "\n",
        "try:\n",
        "  # %tensorflow_version only exists in Colab.\n",
        "  %tensorflow_version 2.x\n",
        "except Exception:\n",
        "  pass\n",
        "import tensorflow as tf\n",
        "\n",
        "from tensorflow import keras\n",
        "from tensorflow.keras import layers\n",
        "\n",
        "import tensorflow_docs as tfdocs\n",
        "import tensorflow_docs.plots\n",
        "import tensorflow_docs.modeling"
      ],
      "execution_count": null,
      "outputs": []
    },
    {
      "cell_type": "code",
      "metadata": {
        "id": "CiX2FI4gZtTt"
      },
      "source": [
        "# Import data\n",
        "!wget https://cdn.freecodecamp.org/project-data/health-costs/insurance.csv\n",
        "dataset = pd.read_csv('insurance.csv')\n",
        "dataset.tail()"
      ],
      "execution_count": null,
      "outputs": []
    },
    {
      "cell_type": "code",
      "metadata": {
        "id": "zR8qwoUKc9y_"
      },
      "source": [
        "from sklearn.model_selection import train_test_split\n",
        "# split the data into train and test\n",
        "train_labels, test_labels = train_test_split(dataset,# data\n",
        "                                                    test_size=0.20, #percent to divide\n",
        "                                                    random_state=1 # randomice data\n",
        "                                                   )"
      ],
      "execution_count": null,
      "outputs": []
    },
    {
      "cell_type": "code",
      "metadata": {
        "id": "ciwSrdoQdvA4"
      },
      "source": [
        "print(train_labels.shape)\n",
        "print(test_labels.shape)"
      ],
      "execution_count": null,
      "outputs": []
    },
    {
      "cell_type": "code",
      "metadata": {
        "id": "3EiQM9nDWqON"
      },
      "source": [
        "# quit the expenses column\n",
        "train_expenses = train_labels.pop('expenses')\n",
        "test_expenses = test_labels.pop('expenses')"
      ],
      "execution_count": null,
      "outputs": []
    },
    {
      "cell_type": "code",
      "metadata": {
        "id": "Nr4_ex3meGun"
      },
      "source": [
        "train_labels.describe"
      ],
      "execution_count": null,
      "outputs": []
    },
    {
      "cell_type": "code",
      "metadata": {
        "id": "y1GbOpb2Ofrc"
      },
      "source": [
        "#some names\n",
        "CATEGORICAL_COLUMNS = ['sex','smoker','region']\n",
        "NUMERIC_COLUMNS = ['age', 'bmi','children']\n",
        "feature_columns = []"
      ],
      "execution_count": null,
      "outputs": []
    },
    {
      "cell_type": "code",
      "metadata": {
        "id": "dUJOhGEHPBI9"
      },
      "source": [
        "#create a dictionary for encode\n",
        "for feature_name in CATEGORICAL_COLUMNS:\n",
        "  vocabulary = dataset[feature_name].unique()  # gets a list of all unique values from given feature column\n",
        "  feature_columns.append(tf.feature_column.categorical_column_with_vocabulary_list(feature_name, vocabulary))"
      ],
      "execution_count": null,
      "outputs": []
    },
    {
      "cell_type": "code",
      "metadata": {
        "id": "P3HNKPiRPI6D"
      },
      "source": [
        "#this is a dictionary\n",
        "feature_columns"
      ],
      "execution_count": null,
      "outputs": []
    },
    {
      "cell_type": "code",
      "metadata": {
        "id": "JJgDHq9YPNjp"
      },
      "source": [
        "#encode the numeric data\n",
        "for feature_name in NUMERIC_COLUMNS:\n",
        "  feature_columns.append(tf.feature_column.numeric_column(feature_name, dtype=tf.float32))\n"
      ],
      "execution_count": null,
      "outputs": []
    },
    {
      "cell_type": "code",
      "metadata": {
        "id": "9eOv2jzUPNAx"
      },
      "source": [
        "feature_columns"
      ],
      "execution_count": null,
      "outputs": []
    },
    {
      "cell_type": "code",
      "metadata": {
        "id": "qDCXhSoGVCmy"
      },
      "source": [
        "train_labels"
      ],
      "execution_count": null,
      "outputs": []
    },
    {
      "cell_type": "code",
      "metadata": {
        "id": "TKgehumqQIAW"
      },
      "source": [
        "def make_input_fn(data_df, label_df, num_epochs=10, shuffle=True, batch_size=20):\n",
        "  def input_function():  # inner function, this will be returned\n",
        "    ds = tf.data.Dataset.from_tensor_slices((dict(data_df), label_df))  # create tf.data.Dataset object with data and its label\n",
        "    if shuffle:\n",
        "      ds = ds.shuffle(1000)  # randomize order of data\n",
        "    ds = ds.batch(batch_size).repeat(num_epochs)  # split dataset into batches of 32 and repeat process for number of epochs\n",
        "    return ds  # return a batch of the dataset\n",
        "  return input_function  # return a function object for use"
      ],
      "execution_count": null,
      "outputs": []
    },
    {
      "cell_type": "code",
      "metadata": {
        "id": "ijoGPkJYQ34_"
      },
      "source": [
        "# here we will call the input_function that was returned to us to get a dataset object we can feed to the model\n",
        "train_input_fn = make_input_fn(train_labels, train_expenses)"
      ],
      "execution_count": null,
      "outputs": []
    },
    {
      "cell_type": "code",
      "metadata": {
        "id": "EPDZHoycRGpk"
      },
      "source": [
        "# here we make a input function for the data  for this purpose the shuffle is false\n",
        "# and the num of epochs is one, this in the evaluation inded\n",
        "eval_input_fn = make_input_fn(test_labels, test_expenses, num_epochs=1, shuffle=False)"
      ],
      "execution_count": null,
      "outputs": []
    },
    {
      "cell_type": "code",
      "metadata": {
        "id": "W9_c83alfLSH"
      },
      "source": [
        "ds = make_input_fn(train_labels, train_expenses, batch_size=10)()\n",
        "for feature_batch, label_batch in ds.take(1):\n",
        "  print('Some feature keys:', list(feature_batch.keys()))\n",
        "  print()\n",
        "  print('A batch of class:', feature_batch['region'].numpy())\n",
        "  print()\n",
        "  print('A batch of Labels:', label_batch.numpy())\n"
      ],
      "execution_count": null,
      "outputs": []
    },
    {
      "cell_type": "code",
      "metadata": {
        "id": "b6AtfJ8QfjgQ"
      },
      "source": [
        "# we can explore some classes of particular column\n",
        "age_column = feature_columns[4]\n",
        "tf.keras.layers.DenseFeatures([age_column])(feature_batch).numpy()\n"
      ],
      "execution_count": null,
      "outputs": []
    },
    {
      "cell_type": "code",
      "metadata": {
        "id": "4_t2lha8go0E"
      },
      "source": [
        "linear_est = tf.estimator.LinearClassifier(feature_columns=feature_columns)"
      ],
      "execution_count": null,
      "outputs": []
    },
    {
      "cell_type": "code",
      "metadata": {
        "id": "SDj12pa-gqt0"
      },
      "source": [
        "\n",
        "linear_est.train(train_input_fn)"
      ],
      "execution_count": null,
      "outputs": []
    },
    {
      "cell_type": "code",
      "metadata": {
        "id": "ioSi90XKPym1"
      },
      "source": [
        "# We create a linear estimtor by passing the feature columns we created earlier\n",
        "linear_est = tf.estimator.LinearClassifier(feature_columns=feature_columns)"
      ],
      "execution_count": null,
      "outputs": []
    },
    {
      "cell_type": "code",
      "metadata": {
        "id": "OdS9kqR8aGcR"
      },
      "source": [
        "ds = tf.data.Dataset.from_tensor_slices((dict(train_labels), expenses_train))"
      ],
      "execution_count": null,
      "outputs": []
    },
    {
      "cell_type": "code",
      "metadata": {
        "id": "JEC6l_h6aN9C"
      },
      "source": [
        "\n",
        "ds"
      ],
      "execution_count": null,
      "outputs": []
    },
    {
      "cell_type": "code",
      "metadata": {
        "id": "jG3N4IzBPycw"
      },
      "source": [
        "# train the model\n",
        "linear_est.train(train_input_fn) "
      ],
      "execution_count": null,
      "outputs": []
    },
    {
      "cell_type": "code",
      "metadata": {
        "id": "mhCbesWeaSHT"
      },
      "source": [
        "result = linear_est.evaluate(eval_input_fn)  # get model metrics/stats by testing on testing data"
      ],
      "execution_count": null,
      "outputs": []
    },
    {
      "cell_type": "code",
      "metadata": {
        "id": "rQIv3J17S7SW"
      },
      "source": [
        "clear_output()  # clears consoke output\n",
        "print(result['accuracy'])  # the result variable is simply a dict of stats about our model"
      ],
      "execution_count": null,
      "outputs": []
    },
    {
      "cell_type": "code",
      "metadata": {
        "id": "cC8askrAPyR9"
      },
      "source": [
        ""
      ],
      "execution_count": null,
      "outputs": []
    },
    {
      "cell_type": "code",
      "metadata": {
        "id": "zkO1ix28PyH9"
      },
      "source": [
        ""
      ],
      "execution_count": null,
      "outputs": []
    },
    {
      "cell_type": "code",
      "metadata": {
        "id": "OJwgYz7-Px7b"
      },
      "source": [
        ""
      ],
      "execution_count": null,
      "outputs": []
    },
    {
      "cell_type": "code",
      "metadata": {
        "id": "JB2HrsN3pvKQ"
      },
      "source": [
        "\n",
        "#encode the data\n",
        "dataset['sex'] = dataset['sex'].apply({'male':0, 'female':1}.get)\n",
        "dataset['smoker'] = dataset['smoker'].apply({'yes':1, 'no':0}.get)\n",
        "dataset['region'] = dataset['region'].apply({'southwest':1, 'southeast':2, 'northwest':3, 'northeast':4}.get)"
      ],
      "execution_count": null,
      "outputs": []
    },
    {
      "cell_type": "code",
      "metadata": {
        "id": "4Fa8PHJBp0qP"
      },
      "source": [
        "#for check\n",
        "dataset.head()"
      ],
      "execution_count": null,
      "outputs": []
    },
    {
      "cell_type": "code",
      "metadata": {
        "id": "h_bGuxisq9TU"
      },
      "source": [
        "y = dataset.pop('expenses')"
      ],
      "execution_count": null,
      "outputs": []
    },
    {
      "cell_type": "code",
      "metadata": {
        "id": "gsdVab_MOHee"
      },
      "source": [
        ""
      ],
      "execution_count": null,
      "outputs": []
    },
    {
      "cell_type": "code",
      "metadata": {
        "id": "jVqtGZp_OHPw"
      },
      "source": [
        ""
      ],
      "execution_count": null,
      "outputs": []
    },
    {
      "cell_type": "code",
      "metadata": {
        "id": "5D4WXQL1OGnN"
      },
      "source": [
        ""
      ],
      "execution_count": null,
      "outputs": []
    },
    {
      "cell_type": "code",
      "metadata": {
        "id": "AlLN25gvqzD9"
      },
      "source": [
        ""
      ],
      "execution_count": null,
      "outputs": []
    },
    {
      "cell_type": "code",
      "metadata": {
        "id": "NHCcx_V5q2jX"
      },
      "source": [
        "\n"
      ],
      "execution_count": null,
      "outputs": []
    },
    {
      "cell_type": "code",
      "metadata": {
        "id": "zskxd2avsYAu"
      },
      "source": [
        "# importing the model\n",
        "from sklearn.linear_model import LinearRegression"
      ],
      "execution_count": null,
      "outputs": []
    },
    {
      "cell_type": "code",
      "metadata": {
        "id": "1R6UZeozsdBS"
      },
      "source": [
        "#make the model\n",
        "model = LinearRegression()\n",
        "# Fit linear model \n",
        "model.fit(train_labels,expenses_train)"
      ],
      "execution_count": null,
      "outputs": []
    },
    {
      "cell_type": "code",
      "metadata": {
        "id": "7ZjQyzjwsoed"
      },
      "source": [
        "#predicions\n",
        "predictions = model.predict(test_labels)"
      ],
      "execution_count": null,
      "outputs": []
    },
    {
      "cell_type": "code",
      "metadata": {
        "id": "8KrtdbNXs0BR"
      },
      "source": [
        "predictions[1:3]"
      ],
      "execution_count": null,
      "outputs": []
    },
    {
      "cell_type": "code",
      "metadata": {
        "id": "65zUSEKAtAyM"
      },
      "source": [
        "\n",
        "import matplotlib.pyplot as plt"
      ],
      "execution_count": null,
      "outputs": []
    },
    {
      "cell_type": "code",
      "metadata": {
        "id": "Nad-cy7hs_l-"
      },
      "source": [
        "# comparing the results\n",
        "plt.scatter(expenses_test,predictions) #data test vs predictions\n",
        "plt.xlabel('Y Test')\n",
        "plt.ylabel('Predicted Y')"
      ],
      "execution_count": null,
      "outputs": []
    },
    {
      "cell_type": "code",
      "metadata": {
        "id": "KkIaDyf9tc55"
      },
      "source": [
        "# Predict charges for new customer : Name- Evelyn\n",
        "data = {'age' : 28,\n",
        "        'sex' : 1,\n",
        "        'bmi' : 45.50,\n",
        "        'children' : 0,\n",
        "        'smoker' : 0,\n",
        "        'region' : 3}\n",
        "index = [1]\n",
        "evelyn_df = pd.DataFrame(data,index)\n",
        "evelyn_df"
      ],
      "execution_count": null,
      "outputs": []
    },
    {
      "cell_type": "code",
      "metadata": {
        "id": "wkrJXLM0tx8t"
      },
      "source": [
        "prediction_evelyn = model.predict(evelyn_df)\n",
        "print(\"Medical Insurance cost for Evelyn is : \",prediction_evelyn)"
      ],
      "execution_count": null,
      "outputs": []
    },
    {
      "cell_type": "code",
      "metadata": {
        "id": "-WPLsVmuH93R"
      },
      "source": [
        "model.\n"
      ],
      "execution_count": null,
      "outputs": []
    },
    {
      "cell_type": "code",
      "metadata": {
        "id": "jq3zHt5HJL7u"
      },
      "source": [
        "\n",
        "loss, mae, mse = model.predict(test_dataset, test_labels, verbose=2)"
      ],
      "execution_count": null,
      "outputs": []
    },
    {
      "cell_type": "code",
      "metadata": {
        "id": "Xe7RXH3N3CWU"
      },
      "source": [
        "# RUN THIS CELL TO TEST YOUR MODEL. DO NOT MODIFY CONTENTS.\n",
        "# Test model by checking how well the model generalizes using the test set.\n",
        "loss, mae, mse = model.evaluate(test_dataset, test_labels, verbose=2)\n",
        "\n",
        "print(\"Testing set Mean Abs Error: {:5.2f} expenses\".format(mae))\n",
        "\n",
        "if mae < 3500:\n",
        "  print(\"You passed the challenge. Great job!\")\n",
        "else:\n",
        "  print(\"The Mean Abs Error must be less than 3500. Keep trying.\")\n",
        "\n",
        "# Plot predictions.\n",
        "test_predictions = model.predict(test_dataset).flatten()\n",
        "\n",
        "a = plt.axes(aspect='equal')\n",
        "plt.scatter(test_labels, test_predictions)\n",
        "plt.xlabel('True values (expenses)')\n",
        "plt.ylabel('Predictions (expenses)')\n",
        "lims = [0, 50000]\n",
        "plt.xlim(lims)\n",
        "plt.ylim(lims)\n",
        "_ = plt.plot(lims,lims)\n"
      ],
      "execution_count": null,
      "outputs": []
    },
    {
      "cell_type": "code",
      "metadata": {
        "id": "c6TVfK2pt7yq"
      },
      "source": [
        ""
      ],
      "execution_count": null,
      "outputs": []
    }
  ]
}
>>>>>>> master
